{
 "cells": [
  {
   "cell_type": "markdown",
   "id": "ab8fe6a2",
   "metadata": {},
   "source": [
    "# Viga simplemente apoyada"
   ]
  },
  {
   "cell_type": "code",
   "execution_count": 1,
   "id": "26c158bc",
   "metadata": {},
   "outputs": [],
   "source": [
    "import numpy as np, pandas as pd\n",
    "\n",
    "from matplotlib import pyplot as plt"
   ]
  },
  {
   "cell_type": "code",
   "execution_count": 2,
   "id": "3498d47f",
   "metadata": {},
   "outputs": [],
   "source": [
    "m = 1\n",
    "\n",
    "cm = 0.01*m\n",
    "kg = 1.0\n",
    "kN = 1000.0*kg/m"
   ]
  },
  {
   "cell_type": "markdown",
   "id": "58efd8a5",
   "metadata": {},
   "source": [
    "### 1. Introduccion"
   ]
  },
  {
   "cell_type": "markdown",
   "id": "6d258c3f",
   "metadata": {},
   "source": [
    "En este ejemplo se requiere predecir la **deflexión máxima** de una viga **simplemente apoyada con carga puntual centrada**\n",
    "\n",
    "$$\\sigma_{máx} = \\frac{P*L**3}{48*E*I}$$\n",
    "donde:\n",
    "- P: Carga puntual en el centro (kN)\n",
    "- L:m Lognitud de la viga\n",
    "- E: Módulo de elasticidad\n",
    "- I: Momento de inercia\n",
    "\n",
    "Para solucionar usaremos 2 puntos de vista.\n",
    "- Un **modelo de Machin Learning** (random forest Regresion)\n",
    "- Formulacion clásica o Modelo Matemático de mecánica de materailes."
   ]
  },
  {
   "cell_type": "code",
   "execution_count": 3,
   "id": "285a6bd3",
   "metadata": {},
   "outputs": [],
   "source": [
    "def gen_value_viga_simple(num_muestras = 10_000, random_sate=50):\n",
    "    np.random.seed(random_sate)\n",
    "\n",
    "    # Módulos de elasticidad para diferentes resistencias a la compresión del hormigón (fc) en MPa\n",
    "    modulo_elasticidad = {\n",
    "        175: 19_663_000,\n",
    "        210: 21_541_000,\n",
    "        280: 24_870_000,\n",
    "        350: 27_805_000,\n",
    "        420: 30_463_000,\n",
    "    }\n",
    "    claves_fc = list(modulo_elasticidad.keys())\n",
    "    valores_E = list(modulo_elasticidad.values())\n",
    "\n",
    "    # Longitudes entre 2 y 10 m, con incrementos de 0.05 m y ancho y altura entre 0.25 y 0.60 m y 0.30 y 1.00 m respectivamente\n",
    "    longitud = np.round( np.random.uniform(2, 10, num_muestras)/0.05 ) * 0.05 # [m]\n",
    "    ancho_b = np.round( np.random.uniform(0.25, 0.60, num_muestras)/0.05 ) * 0.05 # [m]\n",
    "    altura_h = np.round( np.random.uniform(0.30, 1.00, num_muestras)/0.05 ) * 0.05 # [m]\n",
    "\n",
    "    # Cargas aleatorias entre 10 y 100 kN\n",
    "    cargasP = np.round(np.random.uniform(10, 100, num_muestras), 2) # [kN]\n",
    "\n",
    "    idx_modulo_elasticidad = np.random.randint(0, len(valores_E), num_muestras)\n",
    "    fc_values = [claves_fc[i] for i in idx_modulo_elasticidad]\n",
    "    e_values = [valores_E[i] for i in idx_modulo_elasticidad]\n",
    "\n",
    "    inercia_vals = (ancho_b * altura_h**3) / 12.0  # [m^4]\n",
    "\n",
    "    idelta_vals = (cargasP*longitud**3) / (48 * np.array(e_values) * inercia_vals)\n",
    "\n",
    "    data = pd.DataFrame({\n",
    "        'L': longitud,  # [m]\n",
    "        'b': ancho_b,  # [m]\n",
    "        'h': altura_h,  # [m]\n",
    "        'P': cargasP,  # [kN]\n",
    "        'fc': fc_values,  # [MPa]\n",
    "        'E': e_values,  # [MPa]\n",
    "        \"I\": inercia_vals,  # [m^4]\n",
    "        \"deflexion_max_mm\": idelta_vals*1000,  # [mm]\n",
    "    })\n",
    "\n",
    "    return data"
   ]
  },
  {
   "cell_type": "code",
   "execution_count": 4,
   "id": "82de6fad",
   "metadata": {},
   "outputs": [
    {
     "data": {
      "text/html": [
       "<div>\n",
       "<style scoped>\n",
       "    .dataframe tbody tr th:only-of-type {\n",
       "        vertical-align: middle;\n",
       "    }\n",
       "\n",
       "    .dataframe tbody tr th {\n",
       "        vertical-align: top;\n",
       "    }\n",
       "\n",
       "    .dataframe thead th {\n",
       "        text-align: right;\n",
       "    }\n",
       "</style>\n",
       "<table border=\"1\" class=\"dataframe\">\n",
       "  <thead>\n",
       "    <tr style=\"text-align: right;\">\n",
       "      <th></th>\n",
       "      <th>L</th>\n",
       "      <th>b</th>\n",
       "      <th>h</th>\n",
       "      <th>P</th>\n",
       "      <th>fc</th>\n",
       "      <th>E</th>\n",
       "      <th>I</th>\n",
       "      <th>deflexion_max_mm</th>\n",
       "    </tr>\n",
       "  </thead>\n",
       "  <tbody>\n",
       "    <tr>\n",
       "      <th>0</th>\n",
       "      <td>5.95</td>\n",
       "      <td>0.45</td>\n",
       "      <td>0.40</td>\n",
       "      <td>41.51</td>\n",
       "      <td>210</td>\n",
       "      <td>21541000</td>\n",
       "      <td>0.002400</td>\n",
       "      <td>3.523589</td>\n",
       "    </tr>\n",
       "    <tr>\n",
       "      <th>1</th>\n",
       "      <td>3.80</td>\n",
       "      <td>0.50</td>\n",
       "      <td>0.40</td>\n",
       "      <td>15.04</td>\n",
       "      <td>210</td>\n",
       "      <td>21541000</td>\n",
       "      <td>0.002667</td>\n",
       "      <td>0.299311</td>\n",
       "    </tr>\n",
       "    <tr>\n",
       "      <th>2</th>\n",
       "      <td>4.05</td>\n",
       "      <td>0.45</td>\n",
       "      <td>0.70</td>\n",
       "      <td>82.55</td>\n",
       "      <td>175</td>\n",
       "      <td>19663000</td>\n",
       "      <td>0.012863</td>\n",
       "      <td>0.451716</td>\n",
       "    </tr>\n",
       "    <tr>\n",
       "      <th>3</th>\n",
       "      <td>5.15</td>\n",
       "      <td>0.30</td>\n",
       "      <td>0.90</td>\n",
       "      <td>49.47</td>\n",
       "      <td>280</td>\n",
       "      <td>24870000</td>\n",
       "      <td>0.018225</td>\n",
       "      <td>0.310584</td>\n",
       "    </tr>\n",
       "    <tr>\n",
       "      <th>4</th>\n",
       "      <td>5.00</td>\n",
       "      <td>0.55</td>\n",
       "      <td>0.95</td>\n",
       "      <td>91.82</td>\n",
       "      <td>175</td>\n",
       "      <td>19663000</td>\n",
       "      <td>0.039296</td>\n",
       "      <td>0.309460</td>\n",
       "    </tr>\n",
       "    <tr>\n",
       "      <th>5</th>\n",
       "      <td>9.95</td>\n",
       "      <td>0.35</td>\n",
       "      <td>0.50</td>\n",
       "      <td>68.86</td>\n",
       "      <td>420</td>\n",
       "      <td>30463000</td>\n",
       "      <td>0.003646</td>\n",
       "      <td>12.724055</td>\n",
       "    </tr>\n",
       "    <tr>\n",
       "      <th>6</th>\n",
       "      <td>5.25</td>\n",
       "      <td>0.40</td>\n",
       "      <td>0.95</td>\n",
       "      <td>57.67</td>\n",
       "      <td>175</td>\n",
       "      <td>19663000</td>\n",
       "      <td>0.028579</td>\n",
       "      <td>0.309376</td>\n",
       "    </tr>\n",
       "  </tbody>\n",
       "</table>\n",
       "</div>"
      ],
      "text/plain": [
       "      L     b     h      P   fc         E         I  deflexion_max_mm\n",
       "0  5.95  0.45  0.40  41.51  210  21541000  0.002400          3.523589\n",
       "1  3.80  0.50  0.40  15.04  210  21541000  0.002667          0.299311\n",
       "2  4.05  0.45  0.70  82.55  175  19663000  0.012863          0.451716\n",
       "3  5.15  0.30  0.90  49.47  280  24870000  0.018225          0.310584\n",
       "4  5.00  0.55  0.95  91.82  175  19663000  0.039296          0.309460\n",
       "5  9.95  0.35  0.50  68.86  420  30463000  0.003646         12.724055\n",
       "6  5.25  0.40  0.95  57.67  175  19663000  0.028579          0.309376"
      ]
     },
     "execution_count": 4,
     "metadata": {},
     "output_type": "execute_result"
    }
   ],
   "source": [
    "data = gen_value_viga_simple(10_000)\n",
    "data.head(7)"
   ]
  },
  {
   "cell_type": "code",
   "execution_count": 8,
   "id": "5474c2cb",
   "metadata": {},
   "outputs": [
    {
     "data": {
      "text/html": [
       "<div>\n",
       "<style scoped>\n",
       "    .dataframe tbody tr th:only-of-type {\n",
       "        vertical-align: middle;\n",
       "    }\n",
       "\n",
       "    .dataframe tbody tr th {\n",
       "        vertical-align: top;\n",
       "    }\n",
       "\n",
       "    .dataframe thead th {\n",
       "        text-align: right;\n",
       "    }\n",
       "</style>\n",
       "<table border=\"1\" class=\"dataframe\">\n",
       "  <thead>\n",
       "    <tr style=\"text-align: right;\">\n",
       "      <th></th>\n",
       "      <th>count</th>\n",
       "      <th>mean</th>\n",
       "      <th>std</th>\n",
       "      <th>min</th>\n",
       "      <th>25%</th>\n",
       "      <th>50%</th>\n",
       "      <th>75%</th>\n",
       "      <th>max</th>\n",
       "    </tr>\n",
       "  </thead>\n",
       "  <tbody>\n",
       "    <tr>\n",
       "      <th>L</th>\n",
       "      <td>10000.0</td>\n",
       "      <td>6.03</td>\n",
       "      <td>2.30</td>\n",
       "      <td>2.00</td>\n",
       "      <td>4.05</td>\n",
       "      <td>6.05</td>\n",
       "      <td>8.00</td>\n",
       "      <td>10.00</td>\n",
       "    </tr>\n",
       "    <tr>\n",
       "      <th>b</th>\n",
       "      <td>10000.0</td>\n",
       "      <td>0.42</td>\n",
       "      <td>0.10</td>\n",
       "      <td>0.25</td>\n",
       "      <td>0.35</td>\n",
       "      <td>0.40</td>\n",
       "      <td>0.50</td>\n",
       "      <td>0.60</td>\n",
       "    </tr>\n",
       "    <tr>\n",
       "      <th>h</th>\n",
       "      <td>10000.0</td>\n",
       "      <td>0.65</td>\n",
       "      <td>0.20</td>\n",
       "      <td>0.30</td>\n",
       "      <td>0.45</td>\n",
       "      <td>0.65</td>\n",
       "      <td>0.80</td>\n",
       "      <td>1.00</td>\n",
       "    </tr>\n",
       "    <tr>\n",
       "      <th>P</th>\n",
       "      <td>10000.0</td>\n",
       "      <td>54.87</td>\n",
       "      <td>26.00</td>\n",
       "      <td>10.00</td>\n",
       "      <td>32.25</td>\n",
       "      <td>55.06</td>\n",
       "      <td>77.38</td>\n",
       "      <td>100.00</td>\n",
       "    </tr>\n",
       "    <tr>\n",
       "      <th>fc</th>\n",
       "      <td>10000.0</td>\n",
       "      <td>288.21</td>\n",
       "      <td>89.80</td>\n",
       "      <td>175.00</td>\n",
       "      <td>210.00</td>\n",
       "      <td>280.00</td>\n",
       "      <td>350.00</td>\n",
       "      <td>420.00</td>\n",
       "    </tr>\n",
       "    <tr>\n",
       "      <th>E</th>\n",
       "      <td>10000.0</td>\n",
       "      <td>24921241.30</td>\n",
       "      <td>3956829.99</td>\n",
       "      <td>19663000.00</td>\n",
       "      <td>21541000.00</td>\n",
       "      <td>24870000.00</td>\n",
       "      <td>27805000.00</td>\n",
       "      <td>30463000.00</td>\n",
       "    </tr>\n",
       "    <tr>\n",
       "      <th>I</th>\n",
       "      <td>10000.0</td>\n",
       "      <td>0.01</td>\n",
       "      <td>0.01</td>\n",
       "      <td>0.00</td>\n",
       "      <td>0.00</td>\n",
       "      <td>0.01</td>\n",
       "      <td>0.02</td>\n",
       "      <td>0.05</td>\n",
       "    </tr>\n",
       "    <tr>\n",
       "      <th>deflexion_max_mm</th>\n",
       "      <td>10000.0</td>\n",
       "      <td>3.34</td>\n",
       "      <td>7.31</td>\n",
       "      <td>0.00</td>\n",
       "      <td>0.26</td>\n",
       "      <td>0.92</td>\n",
       "      <td>3.04</td>\n",
       "      <td>111.05</td>\n",
       "    </tr>\n",
       "  </tbody>\n",
       "</table>\n",
       "</div>"
      ],
      "text/plain": [
       "                    count         mean         std          min          25%  \\\n",
       "L                 10000.0         6.03        2.30         2.00         4.05   \n",
       "b                 10000.0         0.42        0.10         0.25         0.35   \n",
       "h                 10000.0         0.65        0.20         0.30         0.45   \n",
       "P                 10000.0        54.87       26.00        10.00        32.25   \n",
       "fc                10000.0       288.21       89.80       175.00       210.00   \n",
       "E                 10000.0  24921241.30  3956829.99  19663000.00  21541000.00   \n",
       "I                 10000.0         0.01        0.01         0.00         0.00   \n",
       "deflexion_max_mm  10000.0         3.34        7.31         0.00         0.26   \n",
       "\n",
       "                          50%          75%          max  \n",
       "L                        6.05         8.00        10.00  \n",
       "b                        0.40         0.50         0.60  \n",
       "h                        0.65         0.80         1.00  \n",
       "P                       55.06        77.38       100.00  \n",
       "fc                     280.00       350.00       420.00  \n",
       "E                 24870000.00  27805000.00  30463000.00  \n",
       "I                        0.01         0.02         0.05  \n",
       "deflexion_max_mm         0.92         3.04       111.05  "
      ]
     },
     "execution_count": 8,
     "metadata": {},
     "output_type": "execute_result"
    }
   ],
   "source": [
    "data.describe().round(2).transpose()"
   ]
  },
  {
   "cell_type": "code",
   "execution_count": 6,
   "id": "cd75427b",
   "metadata": {},
   "outputs": [
    {
     "data": {
      "text/plain": [
       "Index(['L', 'b', 'h', 'P', 'fc', 'deflexion_max_mm'], dtype='object')"
      ]
     },
     "execution_count": 6,
     "metadata": {},
     "output_type": "execute_result"
    }
   ],
   "source": [
    "data_keys = data.drop(columns=['E', 'I'], axis=1)\n",
    "data_keys = data_keys.keys()\n",
    "data_keys"
   ]
  },
  {
   "cell_type": "code",
   "execution_count": null,
   "id": "3fe3863f",
   "metadata": {},
   "outputs": [
    {
     "data": {
      "image/png": "[encoded data removed]",
      "text/plain": [
       "<Figure size 1200x1000 with 6 Axes>"
      ]
     },
     "metadata": {},
     "output_type": "display_data"
    }
   ],
   "source": [
    "fig, ax = plt.subplots(3, 2, figsize=(12, 10))\n",
    "axs = ax.flatten() # lo convierte en una lista unidimensional\n",
    "# print(axs)\n",
    "fig.suptitle(f\"Histograma de variables de la viga simple con {len(data)} muestras\", pad=12)\n",
    "\n",
    "for i, var in enumerate(data_keys):\n",
    "    axs[i].hist( data[var], bins=30, edgecolor='black', density=True ) # , kde=True\n",
    "    # axs[i].plot(data[var], 'r-', label='Media')\n",
    "    axs[i].set_xlabel(var)\n",
    "    axs[i].set_ylabel(\"Frecuencia\")\n",
    "plt.tight_layout\n",
    "plt.show()"
   ]
  },
  {
   "cell_type": "markdown",
   "id": "0a56d595",
   "metadata": {},
   "source": [
    "### 2. Entrenamento - Modelo de regresion"
   ]
  },
  {
   "cell_type": "code",
   "execution_count": 8,
   "id": "07816e2c",
   "metadata": {},
   "outputs": [],
   "source": [
    "from sklearn.ensemble import RandomForestRegressor\n",
    "from sklearn.model_selection import train_test_split\n",
    "from sklearn.metrics import mean_squared_error, mean_absolute_error, r2_score"
   ]
  },
  {
   "cell_type": "markdown",
   "id": "cfd7e7ad",
   "metadata": {},
   "source": [
    "#### Metricas para evaluar modelo de regresion"
   ]
  },
  {
   "cell_type": "markdown",
   "id": "e7a9012c",
   "metadata": {},
   "source": [
    "Raiz del error cuadratico medio.\n",
    "\n",
    "$$RMSE=\\sqrt{\\frac{1}{n}\\sum_{i=1}^{n}(y_{i}-\\widehat{y_i})^2}$$\n",
    "\n",
    "Error Absoluto medio\n",
    "$$MAE=\\frac{1}{n}\\sum_{i=1}^{n}|y_{i}-\\widehat{y_i}^2|$$\n",
    "\n",
    "\n",
    "Coeficiente de Determinación ($R^2$)\n",
    "\n",
    "$$R^2 = 1- \\frac{\\sum_{i=1}^{n}(y_{i}-\\widehat{y_i})^2}{\\sum_{i=1}^{n}(y_{i}-\\overline{y_i})^2}$$\n",
    "\n",
    "\n",
    "| Métrica | Ideal | Lo que te puede indicar \n",
    "|----------|----------|----------\n",
    "|RMSE|cercano a cero| Cuanto se devia el modelo|\n",
    "|MAE|Cercano a cero| Promedio del error absoluto|\n",
    "|👉$R^2$|Cercano a uno| Corelacion positiva para un modelo de regresion Linial"
   ]
  },
  {
   "cell_type": "code",
   "execution_count": 9,
   "id": "df1962b6",
   "metadata": {},
   "outputs": [
    {
     "data": {
      "text/plain": [
       "Index(['L', 'b', 'h', 'P', 'fc', 'E'], dtype='object')"
      ]
     },
     "execution_count": 9,
     "metadata": {},
     "output_type": "execute_result"
    }
   ],
   "source": [
    "data_keys2 = data.drop(columns=['I', 'deflexion_max_mm'], axis=1)\n",
    "data_keys2 = data_keys2.keys()\n",
    "data_keys2"
   ]
  },
  {
   "cell_type": "code",
   "execution_count": 10,
   "id": "c1eff6fc",
   "metadata": {},
   "outputs": [
    {
     "data": {
      "text/html": [
       "<div>\n",
       "<style scoped>\n",
       "    .dataframe tbody tr th:only-of-type {\n",
       "        vertical-align: middle;\n",
       "    }\n",
       "\n",
       "    .dataframe tbody tr th {\n",
       "        vertical-align: top;\n",
       "    }\n",
       "\n",
       "    .dataframe thead th {\n",
       "        text-align: right;\n",
       "    }\n",
       "</style>\n",
       "<table border=\"1\" class=\"dataframe\">\n",
       "  <thead>\n",
       "    <tr style=\"text-align: right;\">\n",
       "      <th></th>\n",
       "      <th>Real</th>\n",
       "      <th>Predicción</th>\n",
       "    </tr>\n",
       "  </thead>\n",
       "  <tbody>\n",
       "    <tr>\n",
       "      <th>6252</th>\n",
       "      <td>4.310603</td>\n",
       "      <td>3.907676</td>\n",
       "    </tr>\n",
       "    <tr>\n",
       "      <th>4684</th>\n",
       "      <td>0.015795</td>\n",
       "      <td>0.019444</td>\n",
       "    </tr>\n",
       "    <tr>\n",
       "      <th>1731</th>\n",
       "      <td>0.023888</td>\n",
       "      <td>0.032409</td>\n",
       "    </tr>\n",
       "    <tr>\n",
       "      <th>4742</th>\n",
       "      <td>0.392146</td>\n",
       "      <td>0.444441</td>\n",
       "    </tr>\n",
       "    <tr>\n",
       "      <th>4521</th>\n",
       "      <td>0.391406</td>\n",
       "      <td>0.427847</td>\n",
       "    </tr>\n",
       "    <tr>\n",
       "      <th>6340</th>\n",
       "      <td>1.074570</td>\n",
       "      <td>1.024573</td>\n",
       "    </tr>\n",
       "    <tr>\n",
       "      <th>576</th>\n",
       "      <td>1.956665</td>\n",
       "      <td>2.168209</td>\n",
       "    </tr>\n",
       "    <tr>\n",
       "      <th>5202</th>\n",
       "      <td>1.372749</td>\n",
       "      <td>1.847905</td>\n",
       "    </tr>\n",
       "    <tr>\n",
       "      <th>6363</th>\n",
       "      <td>6.941776</td>\n",
       "      <td>8.442404</td>\n",
       "    </tr>\n",
       "    <tr>\n",
       "      <th>439</th>\n",
       "      <td>0.082960</td>\n",
       "      <td>0.087862</td>\n",
       "    </tr>\n",
       "  </tbody>\n",
       "</table>\n",
       "</div>"
      ],
      "text/plain": [
       "          Real  Predicción\n",
       "6252  4.310603    3.907676\n",
       "4684  0.015795    0.019444\n",
       "1731  0.023888    0.032409\n",
       "4742  0.392146    0.444441\n",
       "4521  0.391406    0.427847\n",
       "6340  1.074570    1.024573\n",
       "576   1.956665    2.168209\n",
       "5202  1.372749    1.847905\n",
       "6363  6.941776    8.442404\n",
       "439   0.082960    0.087862"
      ]
     },
     "metadata": {},
     "output_type": "display_data"
    },
    {
     "name": "stdout",
     "output_type": "stream",
     "text": [
      "RMSE: 1.705 mm\n",
      "MAE: 0.466 mm\n",
      "R^2: 0.9577\n"
     ]
    }
   ],
   "source": [
    "X = data[data_keys2]\n",
    "y = data['deflexion_max_mm']\n",
    "x_train, x_test, y_train, y_test = train_test_split(X, y, test_size=0.2, random_state=42) # 20% para la prueba y el 80 para el entrenamiento, con 42 de semilla para replicar\n",
    "\n",
    "modelo = RandomForestRegressor(\n",
    "    n_estimators=100, # 100 árboles\n",
    "    max_depth=20, # numero máximo de niveles en cada árbol\n",
    "    random_state=42 # para reproducibilidad\n",
    "    )\n",
    "modelo.fit(x_train, y_train) # entrenar el modelo\n",
    "y_pred = modelo.predict(x_test)\n",
    "\n",
    "rmse = np.sqrt(mean_squared_error(y_test, y_pred))\n",
    "# mae = np.mean(np.abs(y_test - y_pred))\n",
    "mae = mean_absolute_error(y_test, y_pred)\n",
    "r2 = r2_score(y_test, y_pred)\n",
    "\n",
    "display(pd.DataFrame({\n",
    "    'Real': y_test,\n",
    "    'Predicción': y_pred\n",
    "}).head(10))\n",
    "print(f\"RMSE: {rmse:.3f} mm\")\n",
    "print(f\"MAE: {mae:.3f} mm\")\n",
    "print(f\"R^2: {r2:.4f}\")"
   ]
  },
  {
   "cell_type": "code",
   "execution_count": 11,
   "id": "2dc045e4",
   "metadata": {},
   "outputs": [],
   "source": [
    "# from sklearn.tree import plot_tree\n",
    "\n",
    "# plt.figure(figsize=(20, 12))\n",
    "# plot_tree(modelo.estimators_[0],\n",
    "#           feature_names=data_keys2,\n",
    "#           filled=True,\n",
    "#           rounded=True,\n",
    "#           fontsize=10)\n",
    "# plt.title(\"Árbol de Regresión\")\n",
    "# plt.show()"
   ]
  },
  {
   "cell_type": "markdown",
   "id": "11a1d80b",
   "metadata": {},
   "source": [
    "### 4. Visualizacion del modelo"
   ]
  },
  {
   "cell_type": "code",
   "execution_count": 12,
   "id": "cb675637",
   "metadata": {},
   "outputs": [
    {
     "data": {
      "application/vnd.plotly.v1+json": {
       "config": {
        "plotlyServerURL": "https://plot.ly"
       },
       "data": [
        {
         "marker": {
          "color": "blue",
          "size": 5
         },
         "mode": "markers",
         "name": "Predicciones",
         "type": "scatter",
         "x": {
          "bdata": "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",
          "dtype": "f8"
         },
         "y": {
          "bdata": "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",
          "dtype": "f8"
         }
        },
        {
         "line": {
          "color": "red",
          "width": 2
         },
         "mode": "lines",
         "name": "Línea de referencia",
         "type": "scatter",
         "x": {
          "bdata": "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",
          "dtype": "f8"
         },
         "y": {
          "bdata": "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",
          "dtype": "f8"
         }
        }
       ],
       "layout": {
        "height": 600,
        "template": {
         "data": {
          "bar": [
           {
            "error_x": {
             "color": "#2a3f5f"
            },
            "error_y": {
             "color": "#2a3f5f"
            },
            "marker": {
             "line": {
              "color": "#E5ECF6",
              "width": 0.5
             },
             "pattern": {
              "fillmode": "overlay",
              "size": 10,
              "solidity": 0.2
             }
            },
            "type": "bar"
           }
          ],
          "barpolar": [
           {
            "marker": {
             "line": {
              "color": "#E5ECF6",
              "width": 0.5
             },
             "pattern": {
              "fillmode": "overlay",
              "size": 10,
              "solidity": 0.2
             }
            },
            "type": "barpolar"
           }
          ],
          "carpet": [
           {
            "aaxis": {
             "endlinecolor": "#2a3f5f",
             "gridcolor": "white",
             "linecolor": "white",
             "minorgridcolor": "white",
             "startlinecolor": "#2a3f5f"
            },
            "baxis": {
             "endlinecolor": "#2a3f5f",
             "gridcolor": "white",
             "linecolor": "white",
             "minorgridcolor": "white",
             "startlinecolor": "#2a3f5f"
            },
            "type": "carpet"
           }
          ],
          "choropleth": [
           {
            "colorbar": {
             "outlinewidth": 0,
             "ticks": ""
            },
            "type": "choropleth"
           }
          ],
          "contour": [
           {
            "colorbar": {
             "outlinewidth": 0,
             "ticks": ""
            },
            "colorscale": [
             [
              0,
              "#0d0887"
             ],
             [
              0.1111111111111111,
              "#46039f"
             ],
             [
              0.2222222222222222,
              "#7201a8"
             ],
             [
              0.3333333333333333,
              "#9c179e"
             ],
             [
              0.4444444444444444,
              "#bd3786"
             ],
             [
              0.5555555555555556,
              "#d8576b"
             ],
             [
              0.6666666666666666,
              "#ed7953"
             ],
             [
              0.7777777777777778,
              "#fb9f3a"
             ],
             [
              0.8888888888888888,
              "#fdca26"
             ],
             [
              1,
              "#f0f921"
             ]
            ],
            "type": "contour"
           }
          ],
          "contourcarpet": [
           {
            "colorbar": {
             "outlinewidth": 0,
             "ticks": ""
            },
            "type": "contourcarpet"
           }
          ],
          "heatmap": [
           {
            "colorbar": {
             "outlinewidth": 0,
             "ticks": ""
            },
            "colorscale": [
             [
              0,
              "#0d0887"
             ],
             [
              0.1111111111111111,
              "#46039f"
             ],
             [
              0.2222222222222222,
              "#7201a8"
             ],
             [
              0.3333333333333333,
              "#9c179e"
             ],
             [
              0.4444444444444444,
              "#bd3786"
             ],
             [
              0.5555555555555556,
              "#d8576b"
             ],
             [
              0.6666666666666666,
              "#ed7953"
             ],
             [
              0.7777777777777778,
              "#fb9f3a"
             ],
             [
              0.8888888888888888,
              "#fdca26"
             ],
             [
              1,
              "#f0f921"
             ]
            ],
            "type": "heatmap"
           }
          ],
          "histogram": [
           {
            "marker": {
             "pattern": {
              "fillmode": "overlay",
              "size": 10,
              "solidity": 0.2
             }
            },
            "type": "histogram"
           }
          ],
          "histogram2d": [
           {
            "colorbar": {
             "outlinewidth": 0,
             "ticks": ""
            },
            "colorscale": [
             [
              0,
              "#0d0887"
             ],
             [
              0.1111111111111111,
              "#46039f"
             ],
             [
              0.2222222222222222,
              "#7201a8"
             ],
             [
              0.3333333333333333,
              "#9c179e"
             ],
             [
              0.4444444444444444,
              "#bd3786"
             ],
             [
              0.5555555555555556,
              "#d8576b"
             ],
             [
              0.6666666666666666,
              "#ed7953"
             ],
             [
              0.7777777777777778,
              "#fb9f3a"
             ],
             [
              0.8888888888888888,
              "#fdca26"
             ],
             [
              1,
              "#f0f921"
             ]
            ],
            "type": "histogram2d"
           }
          ],
          "histogram2dcontour": [
           {
            "colorbar": {
             "outlinewidth": 0,
             "ticks": ""
            },
            "colorscale": [
             [
              0,
              "#0d0887"
             ],
             [
              0.1111111111111111,
              "#46039f"
             ],
             [
              0.2222222222222222,
              "#7201a8"
             ],
             [
              0.3333333333333333,
              "#9c179e"
             ],
             [
              0.4444444444444444,
              "#bd3786"
             ],
             [
              0.5555555555555556,
              "#d8576b"
             ],
             [
              0.6666666666666666,
              "#ed7953"
             ],
             [
              0.7777777777777778,
              "#fb9f3a"
             ],
             [
              0.8888888888888888,
              "#fdca26"
             ],
             [
              1,
              "#f0f921"
             ]
            ],
            "type": "histogram2dcontour"
           }
          ],
          "mesh3d": [
           {
            "colorbar": {
             "outlinewidth": 0,
             "ticks": ""
            },
            "type": "mesh3d"
           }
          ],
          "parcoords": [
           {
            "line": {
             "colorbar": {
              "outlinewidth": 0,
              "ticks": ""
             }
            },
            "type": "parcoords"
           }
          ],
          "pie": [
           {
            "automargin": true,
            "type": "pie"
           }
          ],
          "scatter": [
           {
            "fillpattern": {
             "fillmode": "overlay",
             "size": 10,
             "solidity": 0.2
            },
            "type": "scatter"
           }
          ],
          "scatter3d": [
           {
            "line": {
             "colorbar": {
              "outlinewidth": 0,
              "ticks": ""
             }
            },
            "marker": {
             "colorbar": {
              "outlinewidth": 0,
              "ticks": ""
             }
            },
            "type": "scatter3d"
           }
          ],
          "scattercarpet": [
           {
            "marker": {
             "colorbar": {
              "outlinewidth": 0,
              "ticks": ""
             }
            },
            "type": "scattercarpet"
           }
          ],
          "scattergeo": [
           {
            "marker": {
             "colorbar": {
              "outlinewidth": 0,
              "ticks": ""
             }
            },
            "type": "scattergeo"
           }
          ],
          "scattergl": [
           {
            "marker": {
             "colorbar": {
              "outlinewidth": 0,
              "ticks": ""
             }
            },
            "type": "scattergl"
           }
          ],
          "scattermap": [
           {
            "marker": {
             "colorbar": {
              "outlinewidth": 0,
              "ticks": ""
             }
            },
            "type": "scattermap"
           }
          ],
          "scattermapbox": [
           {
            "marker": {
             "colorbar": {
              "outlinewidth": 0,
              "ticks": ""
             }
            },
            "type": "scattermapbox"
           }
          ],
          "scatterpolar": [
           {
            "marker": {
             "colorbar": {
              "outlinewidth": 0,
              "ticks": ""
             }
            },
            "type": "scatterpolar"
           }
          ],
          "scatterpolargl": [
           {
            "marker": {
             "colorbar": {
              "outlinewidth": 0,
              "ticks": ""
             }
            },
            "type": "scatterpolargl"
           }
          ],
          "scatterternary": [
           {
            "marker": {
             "colorbar": {
              "outlinewidth": 0,
              "ticks": ""
             }
            },
            "type": "scatterternary"
           }
          ],
          "surface": [
           {
            "colorbar": {
             "outlinewidth": 0,
             "ticks": ""
            },
            "colorscale": [
             [
              0,
              "#0d0887"
             ],
             [
              0.1111111111111111,
              "#46039f"
             ],
             [
              0.2222222222222222,
              "#7201a8"
             ],
             [
              0.3333333333333333,
              "#9c179e"
             ],
             [
              0.4444444444444444,
              "#bd3786"
             ],
             [
              0.5555555555555556,
              "#d8576b"
             ],
             [
              0.6666666666666666,
              "#ed7953"
             ],
             [
              0.7777777777777778,
              "#fb9f3a"
             ],
             [
              0.8888888888888888,
              "#fdca26"
             ],
             [
              1,
              "#f0f921"
             ]
            ],
            "type": "surface"
           }
          ],
          "table": [
           {
            "cells": {
             "fill": {
              "color": "#EBF0F8"
             },
             "line": {
              "color": "white"
             }
            },
            "header": {
             "fill": {
              "color": "#C8D4E3"
             },
             "line": {
              "color": "white"
             }
            },
            "type": "table"
           }
          ]
         },
         "layout": {
          "annotationdefaults": {
           "arrowcolor": "#2a3f5f",
           "arrowhead": 0,
           "arrowwidth": 1
          },
          "autotypenumbers": "strict",
          "coloraxis": {
           "colorbar": {
            "outlinewidth": 0,
            "ticks": ""
           }
          },
          "colorscale": {
           "diverging": [
            [
             0,
             "#8e0152"
            ],
            [
             0.1,
             "#c51b7d"
            ],
            [
             0.2,
             "#de77ae"
            ],
            [
             0.3,
             "#f1b6da"
            ],
            [
             0.4,
             "#fde0ef"
            ],
            [
             0.5,
             "#f7f7f7"
            ],
            [
             0.6,
             "#e6f5d0"
            ],
            [
             0.7,
             "#b8e186"
            ],
            [
             0.8,
             "#7fbc41"
            ],
            [
             0.9,
             "#4d9221"
            ],
            [
             1,
             "#276419"
            ]
           ],
           "sequential": [
            [
             0,
             "#0d0887"
            ],
            [
             0.1111111111111111,
             "#46039f"
            ],
            [
             0.2222222222222222,
             "#7201a8"
            ],
            [
             0.3333333333333333,
             "#9c179e"
            ],
            [
             0.4444444444444444,
             "#bd3786"
            ],
            [
             0.5555555555555556,
             "#d8576b"
            ],
            [
             0.6666666666666666,
             "#ed7953"
            ],
            [
             0.7777777777777778,
             "#fb9f3a"
            ],
            [
             0.8888888888888888,
             "#fdca26"
            ],
            [
             1,
             "#f0f921"
            ]
           ],
           "sequentialminus": [
            [
             0,
             "#0d0887"
            ],
            [
             0.1111111111111111,
             "#46039f"
            ],
            [
             0.2222222222222222,
             "#7201a8"
            ],
            [
             0.3333333333333333,
             "#9c179e"
            ],
            [
             0.4444444444444444,
             "#bd3786"
            ],
            [
             0.5555555555555556,
             "#d8576b"
            ],
            [
             0.6666666666666666,
             "#ed7953"
            ],
            [
             0.7777777777777778,
             "#fb9f3a"
            ],
            [
             0.8888888888888888,
             "#fdca26"
            ],
            [
             1,
             "#f0f921"
            ]
           ]
          },
          "colorway": [
           "#636efa",
           "#EF553B",
           "#00cc96",
           "#ab63fa",
           "#FFA15A",
           "#19d3f3",
           "#FF6692",
           "#B6E880",
           "#FF97FF",
           "#FECB52"
          ],
          "font": {
           "color": "#2a3f5f"
          },
          "geo": {
           "bgcolor": "white",
           "lakecolor": "white",
           "landcolor": "#E5ECF6",
           "showlakes": true,
           "showland": true,
           "subunitcolor": "white"
          },
          "hoverlabel": {
           "align": "left"
          },
          "hovermode": "closest",
          "mapbox": {
           "style": "light"
          },
          "paper_bgcolor": "white",
          "plot_bgcolor": "#E5ECF6",
          "polar": {
           "angularaxis": {
            "gridcolor": "white",
            "linecolor": "white",
            "ticks": ""
           },
           "bgcolor": "#E5ECF6",
           "radialaxis": {
            "gridcolor": "white",
            "linecolor": "white",
            "ticks": ""
           }
          },
          "scene": {
           "xaxis": {
            "backgroundcolor": "#E5ECF6",
            "gridcolor": "white",
            "gridwidth": 2,
            "linecolor": "white",
            "showbackground": true,
            "ticks": "",
            "zerolinecolor": "white"
           },
           "yaxis": {
            "backgroundcolor": "#E5ECF6",
            "gridcolor": "white",
            "gridwidth": 2,
            "linecolor": "white",
            "showbackground": true,
            "ticks": "",
            "zerolinecolor": "white"
           },
           "zaxis": {
            "backgroundcolor": "#E5ECF6",
            "gridcolor": "white",
            "gridwidth": 2,
            "linecolor": "white",
            "showbackground": true,
            "ticks": "",
            "zerolinecolor": "white"
           }
          },
          "shapedefaults": {
           "line": {
            "color": "#2a3f5f"
           }
          },
          "ternary": {
           "aaxis": {
            "gridcolor": "white",
            "linecolor": "white",
            "ticks": ""
           },
           "baxis": {
            "gridcolor": "white",
            "linecolor": "white",
            "ticks": ""
           },
           "bgcolor": "#E5ECF6",
           "caxis": {
            "gridcolor": "white",
            "linecolor": "white",
            "ticks": ""
           }
          },
          "title": {
           "x": 0.05
          },
          "xaxis": {
           "automargin": true,
           "gridcolor": "white",
           "linecolor": "white",
           "ticks": "",
           "title": {
            "standoff": 15
           },
           "zerolinecolor": "white",
           "zerolinewidth": 2
          },
          "yaxis": {
           "automargin": true,
           "gridcolor": "white",
           "linecolor": "white",
           "ticks": "",
           "title": {
            "standoff": 15
           },
           "zerolinecolor": "white",
           "zerolinewidth": 2
          }
         }
        },
        "title": {
         "text": "Predicciones vs Valores Reales"
        },
        "width": 800,
        "xaxis": {
         "title": {
          "text": "Valores Reales (mm)"
         }
        },
        "yaxis": {
         "title": {
          "text": "Predicciones (mm)"
         }
        }
       }
      }
     },
     "metadata": {},
     "output_type": "display_data"
    }
   ],
   "source": [
    "import plotly.graph_objs as go\n",
    "fig = go.Figure()\n",
    "fig.add_trace(go.Scatter(\n",
    "    x=y_test, \n",
    "    y=y_pred, \n",
    "    mode='markers', \n",
    "    name='Predicciones',\n",
    "    marker=dict(color='blue', size=5)\n",
    "))\n",
    "fig.add_trace(go.Scatter(\n",
    "    x=y_test, \n",
    "    y=y_test, \n",
    "    mode='lines', \n",
    "    name='Línea de referencia',\n",
    "    line=dict(color='red', width=2)\n",
    "))\n",
    "fig.update_layout(\n",
    "    title='Predicciones vs Valores Reales',\n",
    "    xaxis_title='Valores Reales (mm)',\n",
    "    yaxis_title='Predicciones (mm)',\n",
    "    width=800,\n",
    "    height=600\n",
    ")\n",
    "fig.show()"
   ]
  },
  {
   "cell_type": "code",
   "execution_count": 13,
   "id": "0b0c2b47",
   "metadata": {},
   "outputs": [],
   "source": [
    "# fig, ax = plt.subplots(figsize=(10, 6))\n",
    "# ax.scatter(y_test, y_pred, alpha=0.5)\n",
    "# ax.plot([y.min(), y.max()], [y.min(), y.max()], 'r--', lw=2)\n",
    "# ax.set_xlabel('Valores Reales (mm)')\n",
    "# ax.set_ylabel('Predicciones (mm)')\n",
    "# ax.set_title('Valores Reales vs Predicciones')\n",
    "# plt.grid()\n",
    "# plt.tight_layout()\n",
    "# plt.show()"
   ]
  },
  {
   "cell_type": "markdown",
   "id": "578b604d",
   "metadata": {},
   "source": [
    "### 5. Comparativa"
   ]
  },
  {
   "cell_type": "code",
   "execution_count": 14,
   "id": "f91a57df",
   "metadata": {},
   "outputs": [],
   "source": [
    "def predece_y_compara(datos_viga, modelo):\n",
    "    data_in = pd.DataFrame([datos_viga])[data_keys2]\n",
    "\n",
    "    pred_ml = modelo.predict(data_in)[0]\n",
    "\n",
    "    # Calculo teorico\n",
    "    longitud = datos_viga['L']\n",
    "    carga = datos_viga['P']  # Convertir a N\n",
    "    ancho_b = datos_viga['b']\n",
    "    altura_h = datos_viga['h']\n",
    "    E = datos_viga['E']\n",
    "    I = (ancho_b * altura_h**3) / 12.0  # [m^4]\n",
    "    deflexion_teorico = (carga * longitud**3) / (48 * E * I) * 1000  # [mm]\n",
    "\n",
    "    error = abs(pred_ml - deflexion_teorico)\n",
    "    error_relativo = error / deflexion_teorico * 100\n",
    "\n",
    "    print(f\"Cálculo Teorico ......: {deflexion_teorico:.2f} mm\")\n",
    "    print(f\"C+alculo Prediccion ML: {pred_ml:.2f} mm\")\n",
    "    print(f\"Error: {error:.4f} ({error_relativo:.2f}%)\")\n",
    "\n",
    "    return 0\n"
   ]
  },
  {
   "cell_type": "code",
   "execution_count": 15,
   "id": "dc3fb7b0",
   "metadata": {},
   "outputs": [
    {
     "name": "stdout",
     "output_type": "stream",
     "text": [
      "Cálculo Teorico ......: 107.22 mm\n",
      "C+alculo Prediccion ML: 0.20 mm\n",
      "Error: 107.0258 (99.81%)\n"
     ]
    },
    {
     "data": {
      "text/plain": [
       "0"
      ]
     },
     "execution_count": 15,
     "metadata": {},
     "output_type": "execute_result"
    }
   ],
   "source": [
    "datos_viga = {\n",
    "    \"L\": 2.0 * (m),\n",
    "    \"P\": 50.0 * (kN),\n",
    "    \"b\": 0.30 * (m),\n",
    "    \"h\": 0.50 * (m),\n",
    "    \"fc\": 280 * (kg/cm**2),\n",
    "    \"E\": 24_870_000 * (m**2),\n",
    "}\n",
    "\n",
    "response = predece_y_compara(datos_viga, modelo)\n",
    "response"
   ]
  }
 ],
 "metadata": {
  "kernelspec": {
   "display_name": "Python 3",
   "language": "python",
   "name": "python3"
  },
  "language_info": {
   "codemirror_mode": {
    "name": "ipython",
    "version": 3
   },
   "file_extension": ".py",
   "mimetype": "text/x-python",
   "name": "python",
   "nbconvert_exporter": "python",
   "pygments_lexer": "ipython3",
   "version": "3.12.7"
  }
 },
 "nbformat": 4,
 "nbformat_minor": 5
}
