{
 "cells": [
  {
   "cell_type": "markdown",
   "id": "71107b5d",
   "metadata": {},
   "source": [
    "# Machin learning(ML) y Dinámica Estructural"
   ]
  },
  {
   "cell_type": "markdown",
   "id": "824360ad",
   "metadata": {},
   "source": [
    "```\n",
    "Autor       : Francisco Jimenez Mucho\n",
    "Linkedin    : https://www.linkedin.com/in/fjmucho/\n",
    "date:       : 7 julio 2025\n",
    "```"
   ]
  },
  {
   "cell_type": "markdown",
   "id": "f37e7fea",
   "metadata": {},
   "source": [
    "## Solving `Poison equation in 1D` Using Physics Informed Neural Networks (PINNs)"
   ]
  },
  {
   "cell_type": "markdown",
   "id": "703fa87d",
   "metadata": {},
   "source": [
    "### Example 01."
   ]
  },
  {
   "cell_type": "markdown",
   "id": "2925a9b6",
   "metadata": {},
   "source": [
    "Considere el siguente ejemplo boundary value problem (BVP) 'Posison equation in 1D' ref.\n",
    "\n",
    "$$\n",
    "\\dfrac{d^2 y}{d x^2} + \\pi^2\\sin{(\\pi x)} = 0,\\,\\,\\,\\, x\\in [-1,1]\n",
    "$$\n",
    "\n",
    "Condiciones de borde\n",
    "\n",
    "$$\n",
    "y(-1)=0 \\,\\, and \\,\\, y(1)=0\n",
    "$$\n",
    "\n",
    "**Solucion Análitica**\n",
    "\n",
    "$$y(x) = \\sin{(\\pi x)} $$"
   ]
  },
  {
   "cell_type": "markdown",
   "id": "53b9ffd9",
   "metadata": {},
   "source": [
    "### Algoritmo"
   ]
  },
  {
   "cell_type": "markdown",
   "id": "a1aa08cb",
   "metadata": {},
   "source": [
    "1. **Definir la red Neuronal | Define Neural Network**\n",
    "    - **Input**: Spatial Coordinate $x$.\n",
    "    - **Hidden Layers**: Non-linear transformations to approximate the solution\n",
    "    - **outputs**: Predited $y_{NN}(x)$\n",
    "2. **Compute Derivatives**\n",
    "    - Use `tf.GradientTape` to compute $\\frac{d^2y}{dx^2}$\n",
    "3. **Define Residual**\n",
    "    - Compute the residual of the differential equation.\n",
    "    $$residual = \\frac{d^2y(x)}{dx^2} + \\pi^2\\sin{(\\pi x)}$$\n",
    "4. **Loss Function**\n",
    "    - Combine residual loss and boundary loss:\n",
    "    $$loss=MSE(resudual) + MSE(boundary conditions)\n",
    "5. **Training**\n",
    "    - Minimize the loss function using an optimizer (e.g. Adam)\n",
    "6. **Evaluate**\n",
    "    - Predict and plot the output $y$ over the domain compare with the analytical solution.\n",
    "    "
   ]
  },
  {
   "cell_type": "markdown",
   "id": "8f689cdf",
   "metadata": {},
   "source": [
    "### 1 <img alt=\"pagakes\" src=\"https://pypi.org/static/images/white-cube.2351a86c.svg\" width=\"1%\"/> Importacion de Librerias, clases, funciones, constantes, etc."
   ]
  },
  {
   "cell_type": "code",
   "execution_count": 1,
   "id": "1d47f568",
   "metadata": {},
   "outputs": [],
   "source": [
    "import numpy as np "
   ]
  },
  {
   "cell_type": "code",
   "execution_count": 2,
   "id": "a1d6397a",
   "metadata": {},
   "outputs": [],
   "source": [
    "from matplotlib import pyplot as plt\n",
    "from matplotlib import cm"
   ]
  },
  {
   "cell_type": "code",
   "execution_count": 3,
   "id": "a5f739e5",
   "metadata": {},
   "outputs": [],
   "source": [
    "import tensorflow as tf"
   ]
  },
  {
   "cell_type": "code",
   "execution_count": 4,
   "id": "d01c4d16",
   "metadata": {},
   "outputs": [],
   "source": [
    "plt.close('all')\n",
    "plt.rcParams['font.family'] = 'serif'\n",
    "plt.rcParams['font.serif'] = 'Times New Roman'\n",
    "plt.rcParams['font.size'] = 10\n",
    "plt.rcParams['figure.dpi'] = 100"
   ]
  },
  {
   "cell_type": "markdown",
   "id": "c5fc4a78",
   "metadata": {},
   "source": [
    "#### 1a. Funciones Utiles | Initial setup"
   ]
  },
  {
   "cell_type": "code",
   "execution_count": 5,
   "id": "88a1c45c",
   "metadata": {},
   "outputs": [],
   "source": [
    "def create_model():\n",
    "    model = {\n",
    "        'dense1': tf.keras.layers.Dense(50, activation='tanh', input_shape=(1,)),\n",
    "        'dense2': tf.keras.layers.Dense(50, activation='tanh'),\n",
    "        'dense3': tf.keras.layers.Dense(50, activation='tanh'),\n",
    "        'output_layer': tf.keras.layers.Dense(1)\n",
    "    }\n",
    "    return model\n",
    "\n",
    "def call_model(model, x):\n",
    "    x = model['dense1'](x)\n",
    "    x = model['dense2'](x)\n",
    "    x = model['dense3'](x)\n",
    "    return model['output_layer'](x)\n",
    "\n",
    "# define  the differential equation using tf.GradientTape\n",
    "def differential_equation_PDE(x, model):\n",
    "    with tf.GradientTape(persistent=True) as tape:\n",
    "        tape.watch(x)\n",
    "        u_pred = call_model(model, x)\n",
    "        u_x = tape.gradient(u_pred, x)\n",
    "    u_xx = tape.gradient(u_x, x)\n",
    "    del tape  # free memory\n",
    "\n",
    "    return u_xx + np.pi**2 * tf.sin(np.pi * x) # define the loss function\n",
    "\n",
    "def loss_function(model, x, x_bc, y_bc):\n",
    "    res = differential_equation_PDE(x, model)\n",
    "    # compute the main square error of the boundary conditions\n",
    "    loss_PDE = tf.reduce_mean(tf.square(res))\n",
    "    y_bc_pred = call_model(model, x_bc)\n",
    "    # compute the square error of the boundary conditions\n",
    "    loss_bc = tf.reduce_mean(tf.square(y_bc - y_bc_pred))\n",
    "    return loss_PDE + loss_bc\n",
    "\n",
    "def train_step(model, x, x_bc, y_bc, optimizer):\n",
    "    with tf.GradientTape() as tape:\n",
    "        loss_value = loss_function(model, x, x_bc, y_bc)\n",
    "    grads = tape.gradient(loss_value, [layer.trainable_variables for layer in model.values()])\n",
    "    grads = [item for sublist in grads for item in sublist]  # flatten the list of gradients\n",
    "    variables = [var for layer in model.values() for var in layer.trainable_variables]\n",
    "    optimizer.apply_gradients(zip(grads, variables))\n",
    "\n",
    "    return loss_value"
   ]
  },
  {
   "cell_type": "markdown",
   "id": "e94a69a5",
   "metadata": {},
   "source": [
    "### 2. Carga y preparacion de datos (data)"
   ]
  },
  {
   "cell_type": "code",
   "execution_count": null,
   "id": "7f495723",
   "metadata": {},
   "outputs": [],
   "source": []
  },
  {
   "cell_type": "markdown",
   "id": "44eecb8f",
   "metadata": {},
   "source": [
    "## Referencias."
   ]
  },
  {
   "cell_type": "markdown",
   "id": "86aa2eb2",
   "metadata": {},
   "source": [
    "1. \n",
    "<!-- 5. Elastropy videos: https://youtu.be/pq3aAWU6kBQ, https://www.youtube.com/playlist?list=PLM7DTyYjZGuLYDLV9g7AqkEatySe-lAqG -->"
   ]
  }
 ],
 "metadata": {
  "kernelspec": {
   "display_name": "Python 3",
   "language": "python",
   "name": "python3"
  },
  "language_info": {
   "codemirror_mode": {
    "name": "ipython",
    "version": 3
   },
   "file_extension": ".py",
   "mimetype": "text/x-python",
   "name": "python",
   "nbconvert_exporter": "python",
   "pygments_lexer": "ipython3",
   "version": "3.12.7"
  }
 },
 "nbformat": 4,
 "nbformat_minor": 5
}
