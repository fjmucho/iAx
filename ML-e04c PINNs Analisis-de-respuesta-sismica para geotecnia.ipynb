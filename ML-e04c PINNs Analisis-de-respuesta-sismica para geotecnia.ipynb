{
 "cells": [
  {
   "cell_type": "markdown",
   "id": "1bbaaff9",
   "metadata": {},
   "source": [
    "# Leveraging Physics-Informed Neural Networks in Geotechnical Earthquake Engineering"
   ]
  },
  {
   "cell_type": "markdown",
   "id": "1d0bc6fd",
   "metadata": {},
   "source": [
    "```\n",
    "Autor       : Francisco Jimenez Mucho\n",
    "Linkedin    : https://www.linkedin.com/in/fjmucho/\n",
    "date:       : 7 julio 2025\n",
    "```"
   ]
  },
  {
   "cell_type": "markdown",
   "id": "57392dec",
   "metadata": {},
   "source": [
    "## Solving `Poison equation in 1D` Using Physics Informed Neural Networks (PINNs)"
   ]
  },
  {
   "cell_type": "markdown",
   "id": "735ecf70",
   "metadata": {},
   "source": [
    "### Example 01."
   ]
  },
  {
   "cell_type": "markdown",
   "id": "46c345ac",
   "metadata": {},
   "source": [
    "Considere el siguente ejemplo boundary value problem (BVP) 'Posison equation in 1D' ref.\n",
    "\n",
    "$$\n",
    "\\dfrac{d^2 y}{d x^2} + \\pi^2\\sin{(\\pi x)} = 0,\\,\\,\\,\\, x\\in [-1,1]\n",
    "$$\n",
    "\n",
    "Condiciones de borde\n",
    "\n",
    "$$\n",
    "y(-1)=0 \\,\\, and \\,\\, y(1)=0\n",
    "$$\n",
    "\n",
    "**Solucion Análitica**\n",
    "\n",
    "$$y(x) = \\sin{(\\pi x)} $$"
   ]
  },
  {
   "cell_type": "markdown",
   "id": "ee0addca",
   "metadata": {},
   "source": [
    "### Algoritmo"
   ]
  },
  {
   "cell_type": "markdown",
   "id": "2b307e79",
   "metadata": {},
   "source": [
    "1. **Definir la red Neuronal | Define Neural Network**\n",
    "    - **Input**: Spatial Coordinate $x$.\n",
    "    - **Hidden Layers**: Non-linear transformations to approximate the solution\n",
    "    - **outputs**: Predited $y_{NN}(x)$\n",
    "2. **Compute Derivatives**\n",
    "    - Use `tf.GradientTape` to compute $\\frac{d^2y}{dx^2}$\n",
    "3. **Define Residual**\n",
    "    - Compute the residual of the differential equation.\n",
    "    $$residual = \\frac{d^2y(x)}{dx^2} + \\pi^2\\sin{(\\pi x)}$$\n",
    "4. **Loss Function**\n",
    "    - Combine residual loss and boundary loss:\n",
    "    $$loss=MSE(resudual) + MSE(boundary conditions)\n",
    "5. **Training**\n",
    "    - Minimize the loss function using an optimizer (e.g. Adam)\n",
    "6. **Evaluate**\n",
    "    - Predict and plot the output $y$ over the domain compare with the analytical solution.\n",
    "    "
   ]
  },
  {
   "cell_type": "markdown",
   "id": "79a74e1a",
   "metadata": {},
   "source": [
    "### Codigo"
   ]
  },
  {
   "cell_type": "code",
   "execution_count": null,
   "id": "7def41cc",
   "metadata": {},
   "outputs": [],
   "source": [
    "import numpy as np \n",
    "\n",
    "import tensorflow as tf\n",
    "\n",
    "from matplotlib import pyplot as plt\n",
    "from matplotlib import cm"
   ]
  },
  {
   "cell_type": "code",
   "execution_count": 5,
   "id": "33ac367f",
   "metadata": {},
   "outputs": [],
   "source": [
    "plt.close('all')\n",
    "plt.rcParams['font.family'] = 'serif'\n",
    "plt.rcParams['font.serif'] = 'Times New Roman'\n",
    "plt.rcParams['font.size'] = 10\n",
    "plt.rcParams['figure.dpi'] = 100"
   ]
  },
  {
   "cell_type": "code",
   "execution_count": 6,
   "id": "5b554253",
   "metadata": {},
   "outputs": [],
   "source": [
    "def create_model():\n",
    "    model = {\n",
    "        'dense1': tf.keras.layers.Dense(50, activation='tanh', input_shape=(1,)),\n",
    "        'dense2': tf.keras.layers.Dense(50, activation='tanh'),\n",
    "        'dense3': tf.keras.layers.Dense(50, activation='tanh'),\n",
    "        'output_layer': tf.keras.layers.Dense(1)\n",
    "    }\n",
    "    return model\n",
    "\n",
    "def call_model(model, x):\n",
    "    x = model['dense1'](x)\n",
    "    x = model['dense2'](x)\n",
    "    x = model['dense3'](x)\n",
    "    return model['output_layer'](x)\n",
    "\n",
    "# define  the differential equation using tf.GradientTape\n",
    "def differential_equation_PDE(x, model):\n",
    "    with tf.GradientTape(persistent=True) as tape:\n",
    "        tape.watch(x)\n",
    "        u_pred = call_model(model, x)\n",
    "        u_x = tape.gradient(u_pred, x)\n",
    "    u_xx = tape.gradient(u_x, x)\n",
    "    del tape  # free memory\n",
    "\n",
    "    return u_xx + np.pi**2 * tf.sin(np.pi * x) # define the loss function\n",
    "\n",
    "def loss_function(model, x, x_bc, y_bc):\n",
    "    res = differential_equation_PDE(x, model)\n",
    "    # compute the main square error of the boundary conditions\n",
    "    loss_PDE = tf.reduce_mean(tf.square(res))\n",
    "    y_bc_pred = call_model(model, x_bc)\n",
    "    # compute the square error of the boundary conditions\n",
    "    loss_bc = tf.reduce_mean(tf.square(y_bc - y_bc_pred))\n",
    "    return loss_PDE + loss_bc\n",
    "\n",
    "def train_step(model, x, x_bc, y_bc, optimizer):\n",
    "    with tf.GradientTape() as tape:\n",
    "        loss_value = loss_function(model, x, x_bc, y_bc)\n",
    "    grads = tape.gradient(loss_value, [layer.trainable_variables for layer in model.values()])\n",
    "    grads = [item for sublist in grads for item in sublist]  # flatten the list of gradients\n",
    "    variables = [var for layer in model.values() for var in layer.trainable_variables]\n",
    "    optimizer.apply_gradients(zip(grads, variables))\n",
    "\n",
    "    return loss_value"
   ]
  },
  {
   "cell_type": "code",
   "execution_count": null,
   "id": "c0eef325",
   "metadata": {},
   "outputs": [],
   "source": []
  },
  {
   "cell_type": "markdown",
   "id": "109d1ad1",
   "metadata": {},
   "source": [
    "## Leveraging Physics-Informed Neural Networks in Geotechnical Earthquake Engineering"
   ]
  },
  {
   "cell_type": "markdown",
   "id": "f2cc52ed",
   "metadata": {},
   "source": [
    "link article: https://papers.ssrn.com/sol3/papers.cfm?abstract_id=5017825"
   ]
  },
  {
   "cell_type": "markdown",
   "id": "ab0c6f06",
   "metadata": {},
   "source": [
    "### 1 <img alt=\"pagakes\" src=\"https://pypi.org/static/images/white-cube.2351a86c.svg\" width=\"1%\"/> Importacion de Librerias, clases, funciones, constantes, etc."
   ]
  },
  {
   "cell_type": "code",
   "execution_count": 7,
   "id": "56209443",
   "metadata": {},
   "outputs": [],
   "source": [
    "import os\n",
    "# import numpy as np\n",
    "# import pandas as pd"
   ]
  },
  {
   "cell_type": "code",
   "execution_count": 8,
   "id": "ca0463da",
   "metadata": {},
   "outputs": [],
   "source": [
    "import torch\n",
    "import torch.nn as nn"
   ]
  },
  {
   "cell_type": "code",
   "execution_count": 9,
   "id": "9dce0ec8",
   "metadata": {},
   "outputs": [],
   "source": [
    "from PIL import Image\n",
    "\n",
    "from matplotlib.ticker import AutoMinorLocator\n",
    "import matplotlib.pyplot as plt\n",
    "# import seaborn as sns"
   ]
  },
  {
   "cell_type": "code",
   "execution_count": 11,
   "id": "1f1cf277",
   "metadata": {},
   "outputs": [],
   "source": [
    "#  Configuracion de graficos\n",
    "plt.close('all')\n",
    "plt.style.use('default') # seaborn-v0.8\n",
    "# plt.set_palette('deep')\n",
    "plt.rcParams['figure.figsize'] = (10, 6)\n",
    "plt.rcParams['font.size'] = 10"
   ]
  },
  {
   "cell_type": "markdown",
   "id": "c2e88774",
   "metadata": {},
   "source": [
    "### 2. Carga y preparacion de datos (data)"
   ]
  },
  {
   "cell_type": "code",
   "execution_count": null,
   "id": "705d1c18",
   "metadata": {},
   "outputs": [],
   "source": []
  },
  {
   "cell_type": "markdown",
   "id": "d568ce6c",
   "metadata": {},
   "source": [
    "### 3. Pre-Calculos de la data "
   ]
  },
  {
   "cell_type": "code",
   "execution_count": null,
   "id": "eb72f5e9",
   "metadata": {},
   "outputs": [],
   "source": []
  },
  {
   "cell_type": "markdown",
   "id": "7493cda9",
   "metadata": {},
   "source": [
    "### 4. Entrenamiento"
   ]
  },
  {
   "cell_type": "code",
   "execution_count": null,
   "id": "1aa75337",
   "metadata": {},
   "outputs": [],
   "source": []
  },
  {
   "cell_type": "markdown",
   "id": "5ab76ff1",
   "metadata": {},
   "source": [
    "### 5. Save data"
   ]
  },
  {
   "cell_type": "code",
   "execution_count": null,
   "id": "0bb390d9",
   "metadata": {},
   "outputs": [],
   "source": []
  },
  {
   "cell_type": "markdown",
   "id": "fc9d1b95",
   "metadata": {},
   "source": [
    "## Referencias."
   ]
  },
  {
   "cell_type": "markdown",
   "id": "a4ef974c",
   "metadata": {},
   "source": [
    "- Chapra, S. C., & Canale, R. P. (2010). Numerical Methods for Engineers (6th ed.). MCGraw-Hill Education.\n",
    "- Raissi, M., Perdikaris, P., & Karniadakis, G. E. (2019). Phisics-informed neural networks: A deep learning framework for solving forward and inverse problems involving nolinear partial differential equations. *Jornal of Computational Phisics*, 378, 686-707. [Link]()\n",
    "- Karniadakis, G. E., Kevrekidis, I. G. Lu, L., Perdikaris, P., Wang, S., & Yang, L. (2021). Phisics-informed machine learning. *Nature ReviewsPhisics*,3(6), 422-440. [Link]()\n",
    "- https://youtu.be/pq3aAWU6kBQ\n",
    "- https://scholar.google.com/citations?view_op=view_citation&hl=en&user=ILkESaUAAAAJ&citation_for_view=ILkESaUAAAAJ:dhFuZR0502QC\n",
    "- https://www.sciencedirect.com/science/article/abs/pii/S0266352X25000862 and https://papers.ssrn.com/sol3/papers.cfm?abstract_id=5017825"
   ]
  }
 ],
 "metadata": {
  "kernelspec": {
   "display_name": "Python 3",
   "language": "python",
   "name": "python3"
  },
  "language_info": {
   "codemirror_mode": {
    "name": "ipython",
    "version": 3
   },
   "file_extension": ".py",
   "mimetype": "text/x-python",
   "name": "python",
   "nbconvert_exporter": "python",
   "pygments_lexer": "ipython3",
   "version": "3.12.7"
  }
 },
 "nbformat": 4,
 "nbformat_minor": 5
}
