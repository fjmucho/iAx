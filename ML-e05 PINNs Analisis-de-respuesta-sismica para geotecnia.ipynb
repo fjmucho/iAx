{
 "cells": [
  {
   "cell_type": "markdown",
   "id": "1bbaaff9",
   "metadata": {},
   "source": [
    "# Leveraging Physics-Informed Neural Networks in Geotechnical Earthquake Engineering"
   ]
  },
  {
   "cell_type": "markdown",
   "id": "1d0bc6fd",
   "metadata": {},
   "source": [
    "```\n",
    "Autor       : Francisco Jimenez Mucho\n",
    "Linkedin    : https://www.linkedin.com/in/fjmucho/\n",
    "date:       : 7 julio 2025\n",
    "```"
   ]
  },
  {
   "cell_type": "markdown",
   "id": "109d1ad1",
   "metadata": {},
   "source": [
    "## Leveraging Physics-Informed Neural Networks in Geotechnical Earthquake Engineering"
   ]
  },
  {
   "cell_type": "markdown",
   "id": "f2cc52ed",
   "metadata": {},
   "source": [
    "link article: https://papers.ssrn.com/sol3/papers.cfm?abstract_id=5017825"
   ]
  },
  {
   "cell_type": "markdown",
   "id": "ab0c6f06",
   "metadata": {},
   "source": [
    "### 1 <img alt=\"pagakes\" src=\"https://pypi.org/static/images/white-cube.2351a86c.svg\" width=\"1%\"/> Importacion de Librerias, clases, funciones, constantes, etc."
   ]
  },
  {
   "cell_type": "code",
   "execution_count": 7,
   "id": "56209443",
   "metadata": {},
   "outputs": [],
   "source": [
    "import os\n",
    "# import numpy as np\n",
    "# import pandas as pd"
   ]
  },
  {
   "cell_type": "code",
   "execution_count": 8,
   "id": "ca0463da",
   "metadata": {},
   "outputs": [],
   "source": [
    "import torch\n",
    "import torch.nn as nn"
   ]
  },
  {
   "cell_type": "code",
   "execution_count": 9,
   "id": "9dce0ec8",
   "metadata": {},
   "outputs": [],
   "source": [
    "from PIL import Image\n",
    "\n",
    "from matplotlib.ticker import AutoMinorLocator\n",
    "import matplotlib.pyplot as plt\n",
    "# import seaborn as sns"
   ]
  },
  {
   "cell_type": "code",
   "execution_count": 11,
   "id": "1f1cf277",
   "metadata": {},
   "outputs": [],
   "source": [
    "#  Configuracion de graficos\n",
    "plt.close('all')\n",
    "plt.style.use('default') # seaborn-v0.8\n",
    "# plt.set_palette('deep')\n",
    "plt.rcParams['figure.figsize'] = (10, 6)\n",
    "plt.rcParams['font.size'] = 10"
   ]
  },
  {
   "cell_type": "markdown",
   "id": "c2e88774",
   "metadata": {},
   "source": [
    "### 2. Carga y preparacion de datos (data)"
   ]
  },
  {
   "cell_type": "code",
   "execution_count": null,
   "id": "705d1c18",
   "metadata": {},
   "outputs": [],
   "source": []
  },
  {
   "cell_type": "markdown",
   "id": "d568ce6c",
   "metadata": {},
   "source": [
    "### 3. Pre-Calculos de la data "
   ]
  },
  {
   "cell_type": "code",
   "execution_count": null,
   "id": "eb72f5e9",
   "metadata": {},
   "outputs": [],
   "source": []
  },
  {
   "cell_type": "markdown",
   "id": "7493cda9",
   "metadata": {},
   "source": [
    "### 4. Entrenamiento"
   ]
  },
  {
   "cell_type": "code",
   "execution_count": null,
   "id": "1aa75337",
   "metadata": {},
   "outputs": [],
   "source": []
  },
  {
   "cell_type": "markdown",
   "id": "5ab76ff1",
   "metadata": {},
   "source": [
    "### 5. Save data"
   ]
  },
  {
   "cell_type": "code",
   "execution_count": null,
   "id": "0bb390d9",
   "metadata": {},
   "outputs": [],
   "source": []
  },
  {
   "cell_type": "markdown",
   "id": "fc9d1b95",
   "metadata": {},
   "source": [
    "## Referencias."
   ]
  },
  {
   "cell_type": "markdown",
   "id": "a4ef974c",
   "metadata": {},
   "source": [
    "- Chapra, S. C., & Canale, R. P. (2010). Numerical Methods for Engineers (6th ed.). MCGraw-Hill Education.\n",
    "- Raissi, M., Perdikaris, P., & Karniadakis, G. E. (2019). Phisics-informed neural networks: A deep learning framework for solving forward and inverse problems involving nolinear partial differential equations. *Jornal of Computational Phisics*, 378, 686-707. [Link]()\n",
    "- Karniadakis, G. E., Kevrekidis, I. G. Lu, L., Perdikaris, P., Wang, S., & Yang, L. (2021). Phisics-informed machine learning. *Nature ReviewsPhisics*,3(6), 422-440. [Link]()\n",
    "- https://scholar.google.com/citations?view_op=view_citation&hl=en&user=ILkESaUAAAAJ&citation_for_view=ILkESaUAAAAJ:dhFuZR0502QC\n",
    "- https://www.sciencedirect.com/science/article/abs/pii/S0266352X25000862 and https://papers.ssrn.com/sol3/papers.cfm?abstract_id=5017825"
   ]
  }
 ],
 "metadata": {
  "kernelspec": {
   "display_name": "Python 3",
   "language": "python",
   "name": "python3"
  },
  "language_info": {
   "codemirror_mode": {
    "name": "ipython",
    "version": 3
   },
   "file_extension": ".py",
   "mimetype": "text/x-python",
   "name": "python",
   "nbconvert_exporter": "python",
   "pygments_lexer": "ipython3",
   "version": "3.12.7"
  }
 },
 "nbformat": 4,
 "nbformat_minor": 5
}
