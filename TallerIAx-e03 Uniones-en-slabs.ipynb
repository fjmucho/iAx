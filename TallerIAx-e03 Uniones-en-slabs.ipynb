{
 "cells": [
  {
   "cell_type": "markdown",
   "id": "5ba3eebe",
   "metadata": {},
   "source": [
    "# Entrenamiento de una Red Neoronal (Perceptron) - Aplicada a la Ing. Civil"
   ]
  },
  {
   "cell_type": "markdown",
   "id": "0ce09d51",
   "metadata": {},
   "source": [
    "## 1. <a id=\"gh-branding\" class=\"u-flex-center-ver\" aria-label=\"Mendeley Data homepage\" href=\"/\"><svg class=\"mdui-logo\" viewBox=\"0 0 168 24\" height=\"31.428\" width=\"219.996\" fill=\"#3c3c45\" aria-hidden=\"true\"><path d=\"M3.72257576,23.9678528 C2.51900984,23.8192855 1.52496806,23.1839143 0.792286958,22.2659656 C-0.218307663,21.0022877 -0.308912698,18.1090796 0.792286958,17.0275785 C1.89174421,15.9458633 2.97922243,15.3556617 4.43674381,15.5097949 C7.41124613,15.443432 7.85163887,13.1547684 7.01267109,8.83561436 C6.7053545,8.07030034 6.56944694,7.24932711 6.59732542,6.42921018 C6.5156502,4.22168062 7.64429273,2.04433546 9.72603053,0.860078912 C9.97759018,0.71600721 10.2398221,0.598480665 10.5033607,0.491871886 C10.5763239,0.461045251 10.6479803,0.435784537 10.7211613,0.407954936 C10.8013119,0.379054966 10.8829871,0.348014257 10.9661869,0.32425206 C11.6130546,0.109535986 12.302829,-0.00734833768 13.0237489,0.000358321003 C15.2633921,0.020695337 17.2133606,1.19681708 18.3058482,2.94344564 C19.8043161,4.55884693 20.5594306,5.5408037 22.0239216,5.5408037 C23.5652962,5.5408037 24.2424382,4.55884693 25.7413417,2.94344564 C26.8340471,1.19681708 28.7837978,0.020695337 31.0232232,0.000358321003 C31.743054,-0.00734833768 32.434353,0.109535986 33.0816563,0.32425206 C33.1648561,0.348014257 33.2445711,0.379054966 33.3271176,0.407954936 C33.3994273,0.435784537 33.4723905,0.461045251 33.5433935,0.491871886 C33.8080212,0.598480665 34.0693819,0.71600721 34.3226839,0.860078912 C36.4020259,2.04433546 37.5315397,4.22168062 37.4494288,6.42921018 C37.4768717,7.24932711 37.3429244,8.07030034 37.0345188,8.83561436 C36.1946798,13.1547684 36.6357259,15.443432 39.6119707,15.5097949 C40.8963406,15.3749283 42.0955505,15.834973 42.9380031,16.672644 C42.9380031,16.672644 43.9847526,17.6860696 43.9997808,19.5151166 C44.0176405,21.759895 42.9380031,22.6390964 42.9380031,22.6390964 C42.2656527,23.3498216 41.3561176,23.8402647 40.3250497,23.9678528 C38.0046025,24.2542836 35.9466049,22.5947831 35.727062,20.2615922 C35.6551878,19.4740145 35.8032922,18.7101989 36.1173606,18.0337256 C39.3682518,11.0258039 23.3370412,10.8658908 26.0440845,17.4809869 C26.0499651,17.4895498 26.0573703,17.4970424 26.0632509,17.5088165 C27.3437004,19.5213248 26.6500056,22.1375213 24.5210051,23.3478949 C23.7391011,23.7923122 22.8718192,23.9789846 22.0239216,23.9447328 C21.1764596,23.9789846 20.310049,23.7923122 19.5268382,23.3478949 C17.3965308,22.1375213 16.7026182,19.5213248 17.9835034,17.5088165 C17.9906908,17.4970424 17.9963536,17.4895498 18.002452,17.4809869 C20.710802,10.8658908 4.67980924,11.0258039 7.92939367,18.0337256 C8.24215528,18.7101989 8.39265547,19.4740145 8.31991008,20.2615922 C8.10058492,22.5947831 6.04149837,24.2542836 3.72257576,23.9678528 Z M22.4817979,7 C20.0076627,7 18,8.7895507 18,11.0005046 C18,12.2372663 18.6297264,13.3428442 19.6189734,14.0760615 C20.0490415,14.440551 20.5896792,14.7067534 21.2469914,14.8427811 C21.6395247,14.9440955 22.054217,15 22.4817979,15 L22.5007914,15 L22.5188805,15 C22.9462352,15 23.3627365,14.9440955 23.7530086,14.8427811 C24.4116775,14.7067534 24.9505062,14.440551 25.3814788,14.0760615 C26.3704997,13.3428442 27,12.2372663 27,11.0005046 C27,8.7895507 24.9932417,7 22.5188805,7 C22.5120971,7 22.5062181,7.00161457 22.5007914,7.00161457 C22.494008,7.00161457 22.4885813,7 22.4817979,7 Z\"></path><g transform=\"translate(52.000000, 5.000000)\"><path d=\"M10.2262574,0.9702 L12.0399505,0.9702 L12.916901,12.9312 L11.3623069,12.9312 L10.7444554,3.03 L6.23951485,13.0698 L2.1730495,3.0696 L1.47487129,12.9312 L0,12.9312 L0.876950495,0.9702 L2.81083168,0.9702 L4.46507921,5.0298 C5.40182178,7.347 6.03960396,9.0498 6.37842574,9.9804 C6.69731683,9.129 7.33509901,7.5246 8.4119604,5.0892 L10.2262574,0.9702 Z\"></path><path d=\"M16.5026139,8.2578 L16.5026139,8.5548 C16.5026139,10.6932 17.5589406,11.862 19.4529604,11.862 C20.5092871,11.862 21.7449901,11.4066 22.2837228,10.9314 L22.4033069,12.318 C21.6060792,12.7932 20.6693366,13.1694 18.9746238,13.1694 C16.7025248,13.1694 14.9081584,11.427 14.9081584,8.4762 C14.9081584,5.3874 16.6028713,3.7236 18.9347624,3.7236 C21.7057327,3.7236 22.5627525,5.1492 22.5627525,8.2584 L16.5026139,8.2584 L16.5026139,8.2578 Z M21.167,7.0698 C21.1072079,5.3274 20.3299109,5.0106 18.834505,5.0106 C18.4159604,5.0106 17.7383168,5.1888 17.6386634,5.2878 C17.5190792,5.4066 16.820901,5.9412 16.6614554,7.0698 L21.167,7.0698 Z\"></path><path d=\"M31.949505,12.9312 L30.4148416,12.9312 C30.4148416,12.9312 30.4945644,10.8522 30.4746337,9.0498 C30.4746337,9.0498 30.4746337,7.8618 30.454703,7.149 C30.4148416,5.7828 30.2952574,5.0892 28.9194356,5.0892 C28.441099,5.0892 27.8033168,5.2476 27.663802,5.3268 C27.464495,5.4258 26.5875446,6.3366 26.168396,6.9108 L26.168396,12.9312 L24.6337327,12.9312 L24.6337327,6.456 C24.6337327,5.7432 24.613802,5.1294 24.5540099,4.6734 L24.4742871,3.9606 L25.8893663,3.9606 L26.1285347,5.2872 C26.8659703,4.3962 27.7030594,3.723 29.0589505,3.723 C30.6733366,3.723 31.7701287,4.2378 31.9295743,6.0798 C32.009297,6.9708 31.9893663,7.8618 31.9893663,8.7534 C31.9899703,10.2378 31.949505,12.9312 31.949505,12.9312 Z\"></path><path d=\"M42.2536733,12.9312 L40.8385941,12.9312 C40.778802,12.7134 40.6990792,12.2382 40.6592178,11.862 C39.7623366,12.7926 39.0448317,13.1688 37.8489901,13.1688 C35.6964752,13.1688 34.0017624,11.2878 34.0017624,8.4954 C34.0017624,5.4654 35.776198,3.723 38.5864257,3.723 C39.4434455,3.723 39.9417129,3.822 40.5601683,4.119 L40.5601683,0 L42.0948317,0 L42.0948317,10.4562 C42.0948317,11.169 42.1147624,11.763 42.1745545,12.219 L42.2536733,12.9312 Z M40.5595644,6.6936 C40.5595644,5.4264 39.9018515,5.0304 38.4463069,5.0304 C37.8677129,5.0304 36.9907624,5.1294 36.7914554,5.3274 C36.5522871,5.5254 35.6753366,6.6342 35.6753366,8.3574 C35.6753366,10.7538 37.0904158,11.8626 38.0875545,11.8626 C39.1438812,11.8626 40.0407624,11.0706 40.5595644,10.2984 L40.5595644,6.6936 Z\"></path><path d=\"M45.7608713,8.2578 L45.7608713,8.5548 C45.7608713,10.6932 46.817198,11.862 48.7112178,11.862 C49.7675446,11.862 51.0032475,11.4066 51.5419802,10.9314 L51.6615644,12.318 C50.8643366,12.7932 49.9275941,13.1694 48.2328812,13.1694 C45.9607822,13.1694 44.1664158,11.427 44.1664158,8.4762 C44.1664158,5.3874 45.8611287,3.7236 48.1930198,3.7236 C50.9639901,3.7236 51.8210099,5.1492 51.8210099,8.2584 L45.7608713,8.2584 L45.7608713,8.2578 Z M50.4252574,7.0698 C50.3654653,5.3274 49.5881683,5.0106 48.0927624,5.0106 C47.6742178,5.0106 46.9965743,5.1888 46.8969208,5.2878 C46.7773366,5.4066 46.0791584,5.9412 45.9197129,7.0698 L50.4252574,7.0698 Z\"></path><polygon points=\"53.8925941 0 55.4272574 0 55.4272574 12.9312 53.8925941 12.9312\"></polygon><path d=\"M59.093901,8.2578 L59.093901,8.5548 C59.093901,10.6932 60.1508317,11.862 62.0442475,11.862 C63.1011782,11.862 64.3368812,11.4066 64.8756139,10.9314 L64.9945941,12.318 C64.1973663,12.7932 63.2606238,13.1694 61.5659109,13.1694 C59.2932079,13.1694 57.4994455,11.427 57.4994455,8.4762 C57.4994455,5.3874 59.1941584,3.7236 61.5260495,3.7236 C64.2970198,3.7236 65.1534356,5.1492 65.1534356,8.2584 L59.093901,8.2584 L59.093901,8.2578 Z M63.7588911,7.0698 C63.699099,5.3274 62.921802,5.0106 61.426396,5.0106 C61.0084554,5.0106 60.3308119,5.1888 60.2311584,5.2878 C60.1115743,5.4066 59.413396,5.9412 59.2539505,7.0698 L63.7588911,7.0698 Z\"></path><path d=\"M70.3154851,10.8522 L72.6679109,3.9606 L74.1826436,3.9606 L70.8336832,13.347 C70.1566436,15.2478 69.4983267,16.8918 69.4983267,16.8918 L67.8640099,16.8918 C67.8640099,16.8918 68.5615842,15.4062 69.0797822,14.1588 L69.5587228,13.0302 L66.0503168,3.9606 L67.6840297,3.9606 L70.3154851,10.8522 Z\"></path><path d=\"M83.8683564,12.9312 L79.742099,12.9312 L79.742099,0.9702 L84.0477327,0.9702 C88.2935743,0.9702 89.7690495,4.1784 89.7690495,6.9108 C89.7684455,9.525 88.2537129,12.9312 83.8683564,12.9312 Z M83.7886337,2.2374 L81.3166238,2.2374 L81.3166238,11.6634 L83.5893267,11.6634 C86.6393267,11.6634 87.9946139,9.9006 87.9946139,6.9108 C87.9946139,4.8714 87.0379406,2.2374 83.7886337,2.2374 Z\"></path><path d=\"M98.2389901,12.9312 C98.1393366,12.6342 98.0590099,12.3372 98.0197525,12.0798 L97.9593564,11.7036 C97.2219208,12.8124 96.3250396,13.1892 95.1889901,13.1892 C93.0159406,13.1892 91.3218317,11.565 91.3218317,8.6544 C91.3218317,5.5452 92.8371683,3.7236 95.647396,3.7236 C96.4651584,3.7236 97.3813663,3.981 97.920099,4.674 L98.2589208,3.9612 L99.4547624,3.9612 L99.3158515,5.2284 L99.3158515,10.2582 C99.3158515,10.9314 99.5151584,12.2976 99.7337921,12.9318 L98.2389901,12.9318 L98.2389901,12.9312 Z M97.7799802,7.9212 C97.7799802,5.9214 97.0425446,5.0298 95.6872574,5.0298 C94.9697525,5.0298 94.2123861,5.2278 94.0722673,5.3664 C93.833099,5.604 92.9760792,6.4554 92.9760792,8.436 C92.9760792,11.0106 94.1719208,11.8818 95.4480891,11.8818 C96.4246931,11.8818 97.2019901,11.1888 97.7799802,9.8022 L97.7799802,7.9212 Z\"></path><path d=\"M106.827911,12.7134 C106.289178,12.951 105.452693,13.1886 104.754515,13.1886 C103.578604,13.1886 102.740911,12.5352 102.740911,10.9512 L102.740911,5.1492 L101.106594,5.1492 L101.106594,3.9612 L102.740911,3.9612 L102.740911,1.5642 L104.236317,1.5642 L104.236317,3.9606 L106.608673,3.9606 L106.608673,5.1486 L104.236317,5.1486 L104.236317,10.4556 C104.236317,11.4654 104.495416,11.8614 105.19299,11.8614 C105.671327,11.8614 106.150267,11.6634 106.708327,11.4456 L106.827911,12.7134 Z\"></path><path d=\"M114.521762,12.9312 C114.422109,12.6342 114.341782,12.3372 114.302525,12.0798 L114.242129,11.7036 C113.504693,12.8124 112.607812,13.1892 111.471762,13.1892 C109.298713,13.1892 107.604604,11.565 107.604604,8.6544 C107.604604,5.5452 109.119941,3.7236 111.930168,3.7236 C112.747931,3.7236 113.664139,3.981 114.202871,4.674 L114.541693,3.9612 L115.737535,3.9612 L115.598624,5.2284 L115.598624,10.2582 C115.598624,10.9314 115.797931,12.2976 116.016564,12.9318 L114.521762,12.9318 L114.521762,12.9312 Z M114.062752,7.9212 C114.062752,5.9214 113.325317,5.0298 111.97003,5.0298 C111.252525,5.0298 110.495158,5.2278 110.35504,5.3664 C110.115871,5.604 109.258851,6.4554 109.258851,8.436 C109.258851,11.0106 110.454693,11.8818 111.730861,11.8818 C112.707465,11.8818 113.484762,11.1888 114.062752,9.8022 L114.062752,7.9212 Z\"></path></g></svg></a> (📊 data)"
   ]
  },
  {
   "cell_type": "markdown",
   "id": "c573bc23",
   "metadata": {},
   "source": [
    "**Definicion del problema**\n",
    "\n",
    "*Data Set: Experimental database of the elastic slip, slip capacity, and stiffness of shear stud connectors in solid concrete slabs* link: https://doi.org/10.17632/dm3j2cn573.1\n",
    "\n",
    "La Base de datos contiene nnn datos ....:\n",
    "\n",
    "Variables de Entrada (Features) y Variable Objetivo (Target):.\n",
    "\n",
    "- d\tNominal stud shank diameter\n",
    "- ddo\tNominal weld collar diameter\n",
    "- ddom\tMeasured weld collar diameter\n",
    "- dm\tMeasured stud shank diameter\n",
    "- Ecm\tSecant modulus of elasticity of concrete\n",
    "- fck\tCharachteristic compressive strength of normal weight concrete\n",
    "- fcm\tConcrete compressive strength\n",
    "- flck\tCharachteristic compressive strength of lightweight concrete\n",
    "- fu\tNominal ultimate tensile strength of the stud steel\n",
    "- fum\tMeasured ultimate tensile strength of the stud steel\n",
    "- h\tNominal stud height\n",
    "- hm\tMeasured stud height\n",
    "- hw\tNominal weld collar height\n",
    "- hwm\tMeasured weld collar height\n",
    "- ksc\tStiffness of a shear stud determined as the load-slip line between the points of 0.1Pem and 0.4Pem in accordance with AISC 360-22\n",
    "- ksc,SLS\tStiffness of a shear stud at the serviceability limit state determined at  0.5PRk \n",
    "- ksc,ULS\tStiffness of a shear stud at the ultimate limit state (determined in accordance with EC4)\n",
    "- n\tTotal number of studs\n",
    "- Pem\tMeasured value of the shear resistance of a single connector\n",
    "- PRk\tCharacteristic value of the shear resistance of a single stud\n",
    "- su\tSlip capacity of a shear stud determined at 0.95Pem in accordance with AISC 360-22\n",
    "- zs\tPosition of reinforcement measured downwards from top of stud\n",
    "- δe,ULS\tElastic slip of a shear stud at the ultimate limit state (determined in accordance with EC4)\n",
    "- δu\tSlip capacity of a shear stud (determined in accordance with EC4)\n",
    "- ρ\tConcrete density\n",
    "\n"
   ]
  },
  {
   "cell_type": "code",
   "execution_count": null,
   "id": "8bfba257",
   "metadata": {},
   "outputs": [],
   "source": [
    "# !pip install numpy pandas scipy seaborn matplotlib -q"
   ]
  },
  {
   "cell_type": "markdown",
   "id": "fb5a974c",
   "metadata": {},
   "source": [
    "### <img alt=\"pagakes\" src=\"https://pypi.org/static/images/white-cube.2351a86c.svg\" width=\"1.5%\"/> Importacion de Librerias, clases, funciones, constantes, etc."
   ]
  },
  {
   "cell_type": "code",
   "execution_count": null,
   "id": "451e78f1",
   "metadata": {},
   "outputs": [],
   "source": [
    "import numpy as np\n",
    "import pandas as pd\n",
    "\n",
    "import seaborn as sns\n",
    "from matplotlib import pyplot as plt\n",
    "\n",
    "# Machine Learning\n",
    "from sklearn.neural_network import MLPRegressor\n",
    "from sklearn.preprocessing import StandardScaler\n",
    "from sklearn.model_selection import train_test_split\n",
    "from sklearn.metrics import mean_squared_error, r2_score, mean_absolute_error\n",
    "\n",
    "# Para la persistencia de datos entrenados\n",
    "import joblib"
   ]
  },
  {
   "cell_type": "code",
   "execution_count": null,
   "id": "c3732e0f",
   "metadata": {},
   "outputs": [],
   "source": [
    "#  Configuracion de graficos\n",
    "plt.style.use('default') # seaborn-v0.8\n",
    "# plt.set_palette('deep')\n",
    "plt.rcParams['figure.figsize'] = (10, 6)\n",
    "plt.rcParams['font.size'] = 10"
   ]
  },
  {
   "cell_type": "markdown",
   "id": "5234493f",
   "metadata": {},
   "source": [
    "<h3> 1. <svg xmlns=\"http://www.w3.org/2000/svg\" width=\"20\" height=\"20\" fill=\"currentColor\" class=\"bi bi-cloud-arrow-up-fill\" viewBox=\"0 0 16 16\">\n",
    "  <path d=\"M8 2a5.53 5.53 0 0 0-3.594 1.342c-.766.66-1.321 1.52-1.464 2.383C1.266 6.095 0 7.555 0 9.318 0 11.366 1.708 13 3.781 13h8.906C14.502 13 16 11.57 16 9.773c0-1.636-1.242-2.969-2.834-3.194C12.923 3.999 10.69 2 8 2m2.354 5.146a.5.5 0 0 1-.708.708L8.5 6.707V10.5a.5.5 0 0 1-1 0V6.707L6.354 7.854a.5.5 0 1 1-.708-.708l2-2a.5.5 0 0 1 .708 0z\"/>\n",
    "</svg> Carga y preparacion de datos (data) </h3>"
   ]
  },
  {
   "cell_type": "code",
   "execution_count": null,
   "id": "da391b1a",
   "metadata": {},
   "outputs": [],
   "source": [
    "data = pd.read_excel('data/Studs_Solid_Load-Slip_Curves_Database.xlsm', sheet_name='Database', header=1)\n",
    "display( data.head(5) )"
   ]
  },
  {
   "cell_type": "code",
   "execution_count": null,
   "id": "29cb5dfc",
   "metadata": {},
   "outputs": [],
   "source": [
    "# Damos drop a la columna \"género\"\n",
    "data = data.drop(columns=[\n",
    "'Test','Test specimen reference','Source author(s)','Source','Total number of studs n','Concrete test specimen type','Size of concrete test specimen (mm)','Curing','Conversion to cylinder strength',\\\n",
    "'EN 1992-1-1: 2004 fck (flck) (MPa)','EN 1992-1-1: 2004 Ecm (Elcm) (MPa)','EN 1992-1-1: 2004 Density class','EN 1992-1-1: 2004 r (kg/m³)','ISO 13918: 2008 fu (MPa)',\\\n",
    "'d (mm)','ddo (mm)','hw (mm)','h/d','h (mm)', \\\n",
    "'du-de,ULS (mm)', 'du-de,ULS (mm).1', 'du-de,ULS (mm).2', 'fcm (MPa).1', 'Slip (mm)','Load (kN)'], axis=1)\n",
    "\n",
    "display( data.head(5) )"
   ]
  },
  {
   "cell_type": "code",
   "execution_count": null,
   "id": "eba0723e",
   "metadata": {},
   "outputs": [],
   "source": [
    "data = data.rename(columns={\n",
    "    'Position of reinforcement measured downwards from top of stud zs (mm)': 'zs',\n",
    "    'r  (kg/m³)':'ρ',\n",
    "    'Characteristic resistance per stud \\nPRk (kN)': 'PRk,prEC4 (kN)',\n",
    "    'Elastic slip\\nde,ULS (mm)': 'δe,prEC4,ULS (mm)',\n",
    "    'Slip capacity\\ndu (mm)': 'δu,prEC4 (mm)',\n",
    "    'Shear connection stiffness per stud, ksc,SLS (kN/mm)': 'ksc,prEC4,ULS (kN/mm)',\n",
    "    'Shear connection stiffness per stud, ksc,ULS (kN/mm)': 'ksc,prEC4,SLS (kN/mm)',\n",
    "    'Characteristic resistance per stud \\nPRk (kN).1': 'PRk,SRD1 (kN)',\n",
    "    'Elastic slip\\nde,ULS (mm).1': 'δe,SRD1,ULS (mm)',\n",
    "    'Slip capacity\\ndu (mm).1': 'δu,SRD1 (mm)',\n",
    "    'Shear connection stiffness per stud, ksc,ULS (kN/mm).1': 'ksc,SRD1,ULS (kN/mm)',\n",
    "    'Shear connection stiffness per stud, ksc,SLS (kN/mm).1': 'ksc,SRD1,SLS (kN/mm)',\n",
    "    'Characteristic resistance per stud \\nPRk (kN).2': 'PRk,SRD2 (kN)',\n",
    "    'Elastic slip\\nde,ULS (mm).2': 'δe,SRD2,ULS (mm)',\n",
    "    'Slip capacity\\ndu (mm).2': 'δu,SRD2 (mm)',\n",
    "    'Shear connection stiffness per stud, ksc,SLS (kN/mm).2': 'ksc,SRD2,ULS (kN/mm)',\n",
    "    'Shear connection stiffness per stud, ksc,ULS (kN/mm).2': 'ksc,SRD2,SLS (kN/mm)',\n",
    "    'Slip capacity\\nsu (mm)': 'su,AISC (mm)',\n",
    "    'Shear connection stiffness per stud, ksc (kN/mm)': 'ksc,AISC (kN/mm)',\n",
    "    })\n",
    "# data = data.drop(columns=['N° Radiografía', 'Sexo'], axis=1)\n",
    "display( data.head(7) )"
   ]
  },
  {
   "cell_type": "markdown",
   "id": "9e008dfd",
   "metadata": {},
   "source": [
    "<h3> <svg xmlns=\"http://www.w3.org/2000/svg\" width=\"20\" height=\"20\" fill=\"currentColor\" class=\"bi bi-calculator\" viewBox=\"0 0 16 16\">\n",
    "  <path d=\"M12 1a1 1 0 0 1 1 1v12a1 1 0 0 1-1 1H4a1 1 0 0 1-1-1V2a1 1 0 0 1 1-1zM4 0a2 2 0 0 0-2 2v12a2 2 0 0 0 2 2h8a2 2 0 0 0 2-2V2a2 2 0 0 0-2-2z\"/>\n",
    "  <path d=\"M4 2.5a.5.5 0 0 1 .5-.5h7a.5.5 0 0 1 .5.5v2a.5.5 0 0 1-.5.5h-7a.5.5 0 0 1-.5-.5zm0 4a.5.5 0 0 1 .5-.5h1a.5.5 0 0 1 .5.5v1a.5.5 0 0 1-.5.5h-1a.5.5 0 0 1-.5-.5zm0 3a.5.5 0 0 1 .5-.5h1a.5.5 0 0 1 .5.5v1a.5.5 0 0 1-.5.5h-1a.5.5 0 0 1-.5-.5zm0 3a.5.5 0 0 1 .5-.5h1a.5.5 0 0 1 .5.5v1a.5.5 0 0 1-.5.5h-1a.5.5 0 0 1-.5-.5zm3-6a.5.5 0 0 1 .5-.5h1a.5.5 0 0 1 .5.5v1a.5.5 0 0 1-.5.5h-1a.5.5 0 0 1-.5-.5zm0 3a.5.5 0 0 1 .5-.5h1a.5.5 0 0 1 .5.5v1a.5.5 0 0 1-.5.5h-1a.5.5 0 0 1-.5-.5zm0 3a.5.5 0 0 1 .5-.5h1a.5.5 0 0 1 .5.5v1a.5.5 0 0 1-.5.5h-1a.5.5 0 0 1-.5-.5zm3-6a.5.5 0 0 1 .5-.5h1a.5.5 0 0 1 .5.5v1a.5.5 0 0 1-.5.5h-1a.5.5 0 0 1-.5-.5zm0 3a.5.5 0 0 1 .5-.5h1a.5.5 0 0 1 .5.5v4a.5.5 0 0 1-.5.5h-1a.5.5 0 0 1-.5-.5z\"/>\n",
    "</svg> 2. Pre-Calculos de la data </h3>"
   ]
  },
  {
   "cell_type": "code",
   "execution_count": null,
   "id": "e1eb4a82",
   "metadata": {},
   "outputs": [],
   "source": [
    "# print(f\"variables: {data.columns.tolist()}\")\n",
    "# print()\n",
    "print(f\"tipos de datos:\\n{data.dtypes}\\n\")\n",
    "\n",
    "print(f\"Valores nulos por columna:\\n{data.isnull().sum()}\\n\")"
   ]
  },
  {
   "cell_type": "code",
   "execution_count": null,
   "id": "7717c50b",
   "metadata": {},
   "outputs": [],
   "source": [
    "print(f\"forma de la data: {data.shape}\\n\")\n",
    "\n",
    "print(f\"ESTADISTICAS DESCRIPTIVAS:\\n\")\n",
    "data.describe().round(2).transpose()"
   ]
  },
  {
   "cell_type": "code",
   "execution_count": null,
   "id": "44768003",
   "metadata": {},
   "outputs": [],
   "source": [
    "def plot_distribution_data(data):\n",
    "    fig, axes = plt.subplots(\n",
    "        nrows=7, \n",
    "        ncols=4, \n",
    "        figsize=(16, 20)\n",
    "        )\n",
    "    axes = axes.ravel()  # Flatten the axes array for easy iteration\n",
    "\n",
    "    for i, column in enumerate(data.columns):\n",
    "        # axes[i].hist(data[column], bins=30, edgecolor='black', alpha=0.7)\n",
    "        # sns.histplot(data[column], kde=True, bins=30)\n",
    "        sns.histplot(data[column], kde=True, stat=\"count\", bins=30, color='skyblue', edgecolor='black', ax=axes[i])\n",
    "        # sns.kdeplot(data[column], color='red', ax=axes[i])\n",
    "        axes[i].set_title(f'Distribución de {column}', fontsize=9, fontweight='bold')\n",
    "        axes[i].set_xlabel(column)\n",
    "        axes[i].set_ylabel('Frecuencia')\n",
    "        # Agregamos estadisticas basicas\n",
    "        mean_value = data[column].mean()\n",
    "        median_value = data[column].median()\n",
    "        axes[i].axvline(mean_value, color='red', linestyle='dashed', linewidth=1, label=f'Mean: {mean_value:.2f}')\n",
    "        axes[i].axvline(median_value, color='blue', linestyle='dashed', linewidth=1, label=f'Median: {median_value:.2f}')\n",
    "        axes[i].legend(fontsize=8)\n",
    "        axes[i].grid(True)\n",
    "    plt.tight_layout()\n",
    "    plt.show()\n",
    "\n",
    "def plot_boxplot_data(data):\n",
    "    fig, axes = plt.subplots(\n",
    "        nrows=7, \n",
    "        ncols=4, \n",
    "        figsize=(16, 20)\n",
    "        )\n",
    "    axes = axes.ravel()  # Flatten the axes array for easy iteration\n",
    "\n",
    "    for i, column in enumerate(data.columns):\n",
    "        box_data = axes[i].boxplot(data[column], vert=True, patch_artist=True, \n",
    "                                       boxprops=dict(facecolor='lightblue', color='black'),\n",
    "                                       medianprops=dict(color='red'),\n",
    "                                       whiskerprops=dict(color='black'),\n",
    "                                       capprops=dict(color='black'),\n",
    "                                       flierprops=dict(markerfacecolor='red', marker='o'))\n",
    "        # sns.boxplot(x=data[column], ax=axes[i])\n",
    "        axes[i].set_title(f'Boxplot de {column}', fontsize=14, fontweight='bold')\n",
    "        axes[i].set_xlabel(column)\n",
    "        axes[i].grid(True, alpha=0.7)\n",
    "\n",
    "        # Calcular y mostrar informacion de outliers\n",
    "        Q1 = data[column].quantile(0.25)\n",
    "        Q3 = data[column].quantile(0.75)\n",
    "        IQR = Q3 - Q1\n",
    "        lower_bound = Q1 - 1.5 * IQR\n",
    "        upper_bound = Q1 + 1.5 * IQR\n",
    "        outliers = data[column][(data[column] < lower_bound) | (data[column] > upper_bound)]\n",
    "        if not outliers.empty or len(outliers) > 0:\n",
    "            axes[i].text(0.05, 0.95, f'Outliers: {len(outliers)}', transform=axes[i].transAxes,\n",
    "                         fontsize=12, verticalalignment='top', bbox=dict(facecolor='green', alpha=0.5))\n",
    "\n",
    "    plt.tight_layout()\n",
    "    plt.show()"
   ]
  },
  {
   "cell_type": "code",
   "execution_count": null,
   "id": "984d8ae0",
   "metadata": {},
   "outputs": [],
   "source": [
    "plot_distribution_data(data)"
   ]
  },
  {
   "cell_type": "code",
   "execution_count": null,
   "id": "ae03f65f",
   "metadata": {},
   "outputs": [],
   "source": [
    "plot_boxplot_data(data)"
   ]
  },
  {
   "cell_type": "markdown",
   "id": "9a5f1639",
   "metadata": {},
   "source": [
    "### 🔗 3. Matriz de correlación"
   ]
  },
  {
   "cell_type": "code",
   "execution_count": null,
   "id": "4366caf9",
   "metadata": {},
   "outputs": [],
   "source": [
    "def plot_correlation_matrix(data):\n",
    "    plt.figure(\n",
    "        figsize=(20, 14)\n",
    "        )\n",
    "    \n",
    "    # Calculamos la matriz de correlación - 'pearson', 'spearman', 'kendall'\n",
    "    corr = data.corr() # method='kendall'\n",
    "    # Crear una máscara para la parte superior de la matriz\n",
    "    mask = np.triu(np.ones_like(corr, dtype=bool))\n",
    "\n",
    "    # Crear heatmap\n",
    "    sns.heatmap(\n",
    "        corr, \n",
    "        mask=mask, \n",
    "        annot=True, \n",
    "        fmt=\".2f\", \n",
    "        cmap='coolwarm', \n",
    "        vmax=1, \n",
    "        vmin=-1,\n",
    "        square=True, \n",
    "        cbar_kws={\"shrink\": .8}\n",
    "        )\n",
    "    \n",
    "    plt.title('Matriz de Correlación entre Variables', fontsize=16, fontweight='bold')\n",
    "    plt.tight_layout()\n",
    "    plt.savefig('outputs/03_correlacion.png', dpi=300, bbox_inches='tight')\n",
    "    plt.show()\n",
    "\n",
    "def plot_scatter_relationsships(data, my_target:str = '') -> None:\n",
    "    fig, axes = plt.subplots(\n",
    "        nrows=2, \n",
    "        ncols=4, \n",
    "        figsize=(20, 12)\n",
    "        )\n",
    "    axes = axes.ravel()  # Flatten the axes array for easy iteration\n",
    "    \n",
    "    features = [col for col in data.columns if col != my_target]\n",
    "    for i, feature in enumerate(features, start=0):\n",
    "        # plot scatter\n",
    "        if i==8:break\n",
    "        # axes[i].scatter(data[feature], data[my_target], alpha=0.6)\n",
    "        sns.regplot(data=data, x=data[feature], y=data[my_target], ax=axes[i], scatter_kws={\"s\": 15}, line_kws={\"color\": \"red\"})\n",
    "        # sns.scatterplot(x=data[my_target], y=data[feature], alpha=0.6)\n",
    "        axes[i].set_title(f'{my_target} vs {feature}', fontsize=8, fontweight='bold')\n",
    "        axes[i].set_xlabel(feature)\n",
    "        axes[i].set_ylabel(my_target)\n",
    "        axes[i].grid(True, alpha=0.7)\n",
    "        # Linea de tendencia\n",
    "        z = np.polyfit(data[feature], data[my_target], 1)\n",
    "        p = np.poly1d(z)\n",
    "        axes[i].plot(data[feature], p(data[feature]), color='red', linestyle='dashed', linewidth=1, label='Tendencia')\n",
    "        # Correlación - 'pearson', 'spearman', 'kendall'\n",
    "        corr = data[[feature, my_target]].corr().iloc[0, 1]\n",
    "        axes[i].text(0.05, 0.95, f'Correlación: {corr:.2f}', transform=axes[i].transAxes, \n",
    "                     fontsize=12, verticalalignment='top', bbox=dict(facecolor='yellow', alpha=0.5))\n",
    "    plt.tight_layout()\n",
    "    plt.show()\n",
    "    "
   ]
  },
  {
   "cell_type": "code",
   "execution_count": null,
   "id": "c170e814",
   "metadata": {},
   "outputs": [],
   "source": [
    "plot_correlation_matrix(data)"
   ]
  },
  {
   "cell_type": "code",
   "execution_count": null,
   "id": "9e16b69a",
   "metadata": {},
   "outputs": [],
   "source": [
    "data = data.drop(columns=['ddom (mm)', 'hwm (mm)'], axis=1)"
   ]
  },
  {
   "cell_type": "code",
   "execution_count": null,
   "id": "89289dbd",
   "metadata": {},
   "outputs": [],
   "source": [
    "# por headers\n",
    "data1 = data[\n",
    "    ['zs', 'fcm (MPa)', 'Ecm (MPa)', r'ρ', 'fum (MPa)', 'dm (mm)', 'hm/dm', 'hm (mm)',\n",
    "     'ksc,prEC4,ULS (kN/mm)', 'ksc,prEC4,SLS (kN/mm)', 'δe,prEC4,ULS (mm)', 'δu,prEC4 (mm)']\n",
    "    ]\n",
    "plot_correlation_matrix(data1)"
   ]
  },
  {
   "cell_type": "code",
   "execution_count": null,
   "id": "63a0d8df",
   "metadata": {},
   "outputs": [],
   "source": [
    "# por headers\n",
    "data2 = data[\n",
    "    ['zs', 'fcm (MPa)', 'Ecm (MPa)', r'ρ', 'fum (MPa)', 'dm (mm)', 'hm/dm', 'hm (mm)',\n",
    "     'ksc,SRD1,SLS (kN/mm)', 'ksc,SRD1,ULS (kN/mm)', 'δe,SRD1,ULS (mm)', 'δu,SRD1 (mm)']\n",
    "    ]\n",
    "plot_correlation_matrix(data2)\n",
    "# pd.plotting.scatter_matrix(data1, figsize=(16, 16))"
   ]
  },
  {
   "cell_type": "code",
   "execution_count": null,
   "id": "c0a7f6ff",
   "metadata": {},
   "outputs": [],
   "source": [
    "# por headers\n",
    "data3 = data[\n",
    "    ['zs', 'fcm (MPa)', 'Ecm (MPa)', r'ρ', 'fum (MPa)', 'dm (mm)','hm/dm', 'hm (mm)',\n",
    "     'ksc,SRD2,ULS (kN/mm)', 'ksc,SRD2,SLS (kN/mm)', 'δe,SRD2,ULS (mm)', 'δu,SRD2 (mm)']\n",
    "    ]\n",
    "plot_correlation_matrix(data3)"
   ]
  },
  {
   "cell_type": "code",
   "execution_count": null,
   "id": "92d9dcdf",
   "metadata": {},
   "outputs": [],
   "source": [
    "# por headers\n",
    "data4 = data[\n",
    "    ['zs', 'fcm (MPa)', 'Ecm (MPa)', r'ρ', 'fum (MPa)', 'dm (mm)', 'hm/dm', 'hm (mm)',\n",
    "     'su,AISC (mm)', 'ksc,AISC (kN/mm)']\n",
    "    ]\n",
    "plot_correlation_matrix(data4)"
   ]
  },
  {
   "cell_type": "code",
   "execution_count": null,
   "id": "2a0cb9c7",
   "metadata": {},
   "outputs": [],
   "source": [
    "# plot_scatter_relationsships(data, my_target='')"
   ]
  },
  {
   "cell_type": "code",
   "execution_count": null,
   "id": "21aec539",
   "metadata": {},
   "outputs": [],
   "source": [
    "# targets = ['ksc,prEC4,ULS (kN/mm)', 'ksc,prEC4,SLS (kN/mm)', 'δe,prEC4,ULS (mm)', 'δu,prEC4 (mm)']\n",
    "# for i, target in enumerate(targets, start=1):\n",
    "#     # print(f\"{i}: {target}\")\n",
    "#     plot_scatter_relationsships(data1, my_target=target)"
   ]
  },
  {
   "cell_type": "code",
   "execution_count": null,
   "id": "d1d97b7c",
   "metadata": {},
   "outputs": [],
   "source": [
    "# targets = ['ksc,SRD1,SLS (kN/mm)', 'ksc,SRD1,ULS (kN/mm)', 'δe,SRD1,ULS (mm)', 'δu,SRD1 (mm)']\n",
    "# for i, target in enumerate(targets, start=1):\n",
    "#     # print(f\"{i}: {target}\")\n",
    "#     plot_scatter_relationsships(data2, my_target=target)"
   ]
  },
  {
   "cell_type": "code",
   "execution_count": null,
   "id": "e3851835",
   "metadata": {},
   "outputs": [],
   "source": [
    "# targets = ['ksc,SRD2,ULS (kN/mm)', 'ksc,SRD2,SLS (kN/mm)', 'δe,SRD2,ULS (mm)', 'δu,SRD2 (mm)']\n",
    "# for i, target in enumerate(targets, start=1):\n",
    "#     # print(f\"{i}: {target}\")\n",
    "#     plot_scatter_relationsships(data3, my_target=target)"
   ]
  },
  {
   "cell_type": "code",
   "execution_count": null,
   "id": "49134639",
   "metadata": {},
   "outputs": [],
   "source": [
    "targets = ['su,AISC (mm)', 'ksc,AISC (kN/mm)']\n",
    "for i, target in enumerate(targets, start=1):\n",
    "    # print(f\"{i}: {target}\")\n",
    "    plot_scatter_relationsships(data4, my_target=target)"
   ]
  },
  {
   "cell_type": "markdown",
   "id": "089b6870",
   "metadata": {},
   "source": [
    "### 🔧 4. Preprocesamiento y Arquitectura de Modelo"
   ]
  },
  {
   "cell_type": "markdown",
   "id": "80720624",
   "metadata": {},
   "source": [
    "🎯 **Objetivo del procesamiento**\n",
    "```\n",
    "Limpiar datos: remover variables calculadas temporales , \n",
    "dividir datos:  train/test split estratificado \n",
    "Normalizar fiatures: Preparar datos para redes neoronales,\n",
    "Validar integridad: Asegurar cosistencia de Nombres\n",
    "```\n",
    "\n",
    "📊 **Preparacion de datos para modelado**\n",
    "```\n",
    "consistencia: los modelos necesitan en formato especifico\n",
    "escalas: variables con diferentes rangos pueden dominar el aprendisaje\n",
    "Generalizacion: Split adecuado previene overfitting\n",
    "Reproducibilidad: Semillas o fijas para resultados consistentes\n",
    "```\n",
    "\n",
    "🧠 **¿Porque se normaliza en redes neoronales?**\n",
    "\n",
    "Normalizar es el proceso para escalar los datos a una distribucion controlada y esto biene de la estadistica.\n",
    "ejejmplo: sigma(0,1)\n",
    "\n",
    "🎯 **Beneficios de la normalizacion**\n",
    "- *Entrenamiento mas rapido y estable*  \n",
    "   Mejora el rendimiento de desenso de gradiente\n",
    "- *Evita que una carateristica domine a otra*  \n",
    "   todas las entradas deben tener la misma importanciarelativa\n",
    "- *Mejora la convergencia*  \n",
    "  Permite llegar a soluciones óptimas mas rapidas\n",
    "- *Reduce errores numericos*\n",
    "  Previene errores grandes o pequeñas"
   ]
  },
  {
   "cell_type": "code",
   "execution_count": null,
   "id": "bdceeae1",
   "metadata": {},
   "outputs": [],
   "source": [
    "def prepare_data(data):\n",
    "    target_column = 'resistencia_compresion_concreto'\n",
    "\n",
    "\n",
    "    # Separar las características y la variable objetivo\n",
    "    XX = data.drop(columns=[target_column], axis=1)\n",
    "    y = data[target_column]\n",
    "\n",
    "    fiature_names = XX.columns.tolist()\n",
    "\n",
    "    print(f\" Features (X): {XX.shape}\")\n",
    "    print(f\" Target (y): {y.shape}\")\n",
    "    print(f\" Feature names: {fiature_names}\\n\")\n",
    "\n",
    "    # Binning the target variable into 5 categories\n",
    "    y_binned = pd.cut(\n",
    "        y, \n",
    "        bins=5, # Dividir en 5 categorías o frecuencias\n",
    "        labels=False\n",
    "        ) \n",
    "    \n",
    "    # Dividir los datos en conjuntos de entrenamiento y prueba\n",
    "    X_train, X_test, y_train, y_test = train_test_split(\n",
    "        XX, y, \n",
    "        test_size=0.2, # 20% de los datos para prueba\n",
    "        train_size=0.8, # 80% de los datos para entrenamiento\n",
    "        random_state=42, \n",
    "        stratify=y_binned)\n",
    "\n",
    "    print(f\" Training set shape: {X_train.shape[0]}, sample {y_train.shape[0]/(len(XX))*100:.2f}%\")\n",
    "    print(f\" Test set shape: {X_test.shape[0]}, {y_test.shape[0]/len(XX)*100:.2f}%\\n\")\n",
    "    \n",
    "    # Escalar las características\n",
    "    scaler = StandardScaler()\n",
    "    X_train_scaled = scaler.fit_transform(X_train)\n",
    "    X_test_scaled = scaler.transform(X_test)\n",
    "    \n",
    "    return X_train_scaled, X_test_scaled, y_train, y_test, scaler\n",
    "\n",
    "X_train_scaled, X_test_scaled, y_train, y_test, scaler = prepare_data(data)\n"
   ]
  },
  {
   "cell_type": "markdown",
   "id": "cd767ea9",
   "metadata": {},
   "source": [
    "### 🧠 5. Entrenamiento de la Red Neoronal"
   ]
  },
  {
   "cell_type": "markdown",
   "id": "948b2fbe",
   "metadata": {},
   "source": [
    "<!-- ![image.png](attachment:image.png) -->"
   ]
  },
  {
   "cell_type": "code",
   "execution_count": null,
   "id": "0cd1f978",
   "metadata": {},
   "outputs": [],
   "source": [
    "print(f\"ARQUITECTURA DE LA RED NEURONAL (MLPRegressor)\")\n",
    "print(\"=\"*50)\n",
    "\n",
    "# configuracion de la red neuronal\n",
    "nn_config = {\n",
    "    'hidden_layer_sizes': (100, 50, 25), # 3 capas ocultas con 100, 50 y 25 neuronas respectivamente\n",
    "    'activation': 'relu', # Función de activación\n",
    "    'solver': 'adam', # Optimizador\n",
    "    'learning_rate_init': 0.001, # Tasa de aprendizaje inicial\n",
    "    'max_iter': 1000, # Número máximo de iteraciones\n",
    "    'random_state': 42, # Semilla para reproducibilidad\n",
    "    'early_stopping': True, # Detener el entrenamiento si no hay mejora\n",
    "    'validation_fraction': 0.1, # Fracción de datos para validación\n",
    "    'n_iter_no_change': 10, # Número de iteraciones sin cambio para detener el entrenamiento\n",
    "}\n",
    "\n",
    "print(f\"ESTRUCTURA DE CAPAS:\\n\")\n",
    "print(f\" - Capas de entrada: {len(X_train_scaled[0])} neuronas (una por entrada)\")\n",
    "print(f\" - Capas ocultas 1: {nn_config['hidden_layer_sizes'][0]} reuronas + ReLu\")\n",
    "print(f\" - Capas ocultas 2: {nn_config['hidden_layer_sizes'][1]} reuronas + ReLu\")\n",
    "print(f\" - Capas ocultas 3: {nn_config['hidden_layer_sizes'][2]} reuronas + ReLu\")\n",
    "print(f\" - Capas de salida: 1 neurona (regresión continua)\")\n",
    "print(f\" - Tasa de aprendizaje inicial: {nn_config['learning_rate_init']}\")\n",
    "print(f\" - Número máximo de iteraciones: {nn_config['max_iter']}\")"
   ]
  },
  {
   "cell_type": "markdown",
   "id": "0bca3675",
   "metadata": {},
   "source": [
    "### 🏋️ Entrenamiento Red Neuronal"
   ]
  },
  {
   "cell_type": "code",
   "execution_count": null,
   "id": "63b0ab0c",
   "metadata": {},
   "outputs": [],
   "source": [
    "def train_red_neuronal(X_train_scaled, y_train, nn_config):\n",
    "    print(f\"\\n🧠 ENTRENANDO RED NEURONAL:\")\n",
    "    print(f\"  📊 Datos de entrada (X_train): {X_train_scaled.shape}\")\n",
    "    # Crear el modelo de red neuronal\n",
    "    model = MLPRegressor(**nn_config) # pasar clave - valor del diccionario nn_config\n",
    "    \n",
    "    # Entrenar el modelo\n",
    "    model.fit(X_train_scaled, y_train)\n",
    "\n",
    "    print(f\"  🔄 Iteraciones ejecutadas: {model.n_iter_}\") # ⚙\n",
    "    \n",
    "    return model"
   ]
  },
  {
   "cell_type": "code",
   "execution_count": null,
   "id": "e165d856",
   "metadata": {},
   "outputs": [],
   "source": [
    "nn_model = train_red_neuronal(X_train_scaled, y_train, nn_config)"
   ]
  },
  {
   "cell_type": "code",
   "execution_count": null,
   "id": "72a0684f",
   "metadata": {},
   "outputs": [],
   "source": [
    "plt.plot(nn_model.loss_curve_, '.-', color='red', label='Pérdida de entrenamiento')\n",
    "plt.title('Pérdida de entrenamiento a lo largo de las iteraciones', fontsize=14, fontweight='bold')\n",
    "plt.xlabel('Iteraciones')\n",
    "plt.ylabel('Pérdida')\n",
    "plt.legend()\n",
    "plt.grid(True)\n",
    "plt.show()"
   ]
  },
  {
   "cell_type": "markdown",
   "id": "aca0ea11",
   "metadata": {},
   "source": [
    "### 📏 6. Evaluacion de Modelo y Métricas"
   ]
  },
  {
   "cell_type": "markdown",
   "id": "9ddd12f8",
   "metadata": {},
   "source": [
    "##### 1. **RMSE – Root Mean Squared Error**\n",
    "El RMSE mide el **error cuadrático medio** entre los valores reales y los predichos. Penaliza más los errores grandes (por estar al cuadrado) y se expresa en las mismas unidades que la variable objetivo.\n",
    "\n",
    "\n",
    "\\begin{equation}\n",
    "\\text{RMSE} = \\sqrt{\\frac{1}{n} \\sum_{i=1}^{n} (y_i - \\hat{y}_i)^2}\n",
    "\\end{equation}\n",
    "\n",
    "\n",
    "- $ y_i $: valor real  \n",
    "- $ \\hat{y}_i $: valor predicho  \n",
    "- $ n $: número de muestras  \n",
    "\n",
    "##### 2. **MAE – Mean Absolute Error**\n",
    "El MAE mide el **promedio del valor absoluto de los errores**. Es más robusto frente a valores atípicos (outliers) porque no eleva al cuadrado las diferencias.\n",
    "\n",
    "\n",
    "\\begin{equation}\n",
    "\\text{MAE} = \\frac{1}{n} \\sum_{i=1}^{n} |y_i - \\hat{y}_i|\n",
    "\\end{equation}\n",
    "\n",
    "\n",
    "##### 3. **$R^2$ – Coeficiente de Determinación**\n",
    "$R^2$ indica la **proporción de la variancia** de los valores reales explicada por el modelo. Su rango típico es de 0 a 1 (puede ser negativo si el modelo es muy malo).\n",
    "\n",
    "\n",
    "\\begin{equation}\n",
    "R^2 = 1 - \\frac{\\sum_{i=1}^{n} (y_i - \\hat{y}_i)^2}{\\sum_{i=1}^{n} (y_i - \\bar{y})^2}\n",
    "\\end{equation}\n",
    "\n",
    "\n",
    "- $ \\bar{y} $: media de los valores reales  \n"
   ]
  },
  {
   "cell_type": "code",
   "execution_count": null,
   "id": "ab0f0cc1",
   "metadata": {},
   "outputs": [],
   "source": [
    "def create_model(nn_model, X_test_scaled, y_test):\n",
    "    print(f\"Datos de entrada (X_test): {X_test_scaled.shape}\")\n",
    "    \n",
    "    # Predecir con el modelo\n",
    "    y_pred = nn_model.predict(X_test_scaled)\n",
    "    \n",
    "    # Calcular métricas de evaluación\n",
    "    mse = mean_squared_error(y_test, y_pred)\n",
    "    rmse = np.sqrt(mse)\n",
    "    mae = mean_absolute_error(y_test, y_pred)\n",
    "    r2 = r2_score(y_test, y_pred)\n",
    "\n",
    "    print(f\"\\nRED NEURONAL:\")\n",
    "    print(f\"RMSE: {rmse:.4f}\")\n",
    "    print(f\"MAE: {mae:.4f}\")\n",
    "    print(f\"R^2: {r2:.4f}\")\n",
    "    print(f\"   • Resistencia de compresión del concreto (y_test): {y_test.mean():.2f} MPa\")\n",
    "\n",
    "    error_percentual = np.abs(rmse / y_test.mean()) * 100\n",
    "    print(f\"   • Error RMSE como % de resistencia promedio: {error_percentual:.1f}%\")\n",
    "\n",
    "    return {\"response\": \n",
    "            {\"mae\": mae, \"rmse\": rmse, \"r2\": r2, \"predicted\": y_pred}\n",
    "    }"
   ]
  },
  {
   "cell_type": "code",
   "execution_count": null,
   "id": "790f504c",
   "metadata": {},
   "outputs": [],
   "source": [
    "response = create_model(nn_model, X_test_scaled, y_test)"
   ]
  },
  {
   "cell_type": "markdown",
   "id": "c412d22f",
   "metadata": {},
   "source": [
    "### 7. Arquitectura Red-Neoronal"
   ]
  },
  {
   "cell_type": "code",
   "execution_count": null,
   "id": "72c80f9e",
   "metadata": {},
   "outputs": [],
   "source": [
    "fig, axes =  plt.subplots(1, 2, figsize=(16, 6))\n",
    "\n",
    "# scaler plot\n",
    "axes[0].scatter(y_test, response['response']['predicted'], alpha=0.6, color='steelblue')\n",
    "axes[0].plot([y_test.min(), y_test.max()], [y_test.min(), y_test.max()], color='red', linestyle='dashed', linewidth=1, label='Línea de referencia')\n",
    "axes[0].set_title('Predicciones vs Valores Reales', fontsize=14, fontweight='bold')\n",
    "axes[0].set_xlabel('Valores Reales')\n",
    "axes[0].grid(True, alpha=0.7)\n",
    "\n",
    "nn_errors = y_test - response['response']['predicted']\n",
    "axes[1].hist(nn_errors, bins=30, color='lightblue', edgecolor='black', alpha=0.7)\n",
    "axes[1].axvline(0, color='red', linestyle='dashed', linewidth=1, label='Error Cero')\n",
    "axes[1].set_title('Distribución de Errores de Predicción', fontsize = 14, fontweight='bold')\n",
    "axes[1].set_xlabel('Errores de Predicción')\n",
    "axes[0].set_ylabel('Predicciones')\n",
    "axes[1].set_ylabel('Frecuencia')\n",
    "axes[1].grid(True, alpha=0.7)  "
   ]
  },
  {
   "cell_type": "markdown",
   "id": "3eff8d98",
   "metadata": {},
   "source": [
    "### 🤔 8. Save data model entraned"
   ]
  },
  {
   "cell_type": "code",
   "execution_count": null,
   "id": "150340e2",
   "metadata": {},
   "outputs": [],
   "source": [
    "def save_neural_network_model(nn_model, scaler, feature_names):\n",
    "    # GUARDAR EL MODELO ENTRENADO\n",
    "    joblib.dump(nn_model, 'red_neuronal_modelo.pkl')\n",
    "    print(f\"Modelo guardado: 'red_neuronal_modelo.pkl'\")\n",
    "    \n",
    "    # GUARDAR EL SCALER\n",
    "    joblib.dump(scaler, 'scaler_normalizacion.pkl')\n",
    "    print(f\"Scaler guardado: 'scaler_normalizacion.pkl'\")\n",
    "    \n",
    "    # GUARDAR NOMBRES DE VARIABLES\n",
    "    joblib.dump(feature_names, 'nombres_variables.pkl')\n",
    "    print(f\"Variables guardadas: 'nombres_variables.pkl'\")\n",
    "    \n",
    "    # GUARDAR METADATOS DEL MODELO\n",
    "    metadatos = {\n",
    "        'arquitectura': nn_model.hidden_layer_sizes,\n",
    "        'activacion': nn_model.activation,\n",
    "        'optimizador': nn_model.solver,\n",
    "        'iteraciones': nn_model.n_iter_,\n",
    "        'perdida_final': nn_model.loss_,\n",
    "        'fecha_entrenamiento': pd.Timestamp.now().strftime('%Y-%m-%d %H:%M:%S')\n",
    "    }\n",
    "    \n",
    "    joblib.dump(metadatos, 'metadatos_modelo.pkl')\n",
    "    print(f\"Metadatos guardados: 'metadatos_modelo.pkl'\")\n",
    "    \n",
    "    \n",
    "    return metadatos\n",
    "\n",
    "# Guardar modelo completo\n",
    "metadatos = save_neural_network_model(nn_model, scaler, feature_names)"
   ]
  },
  {
   "cell_type": "markdown",
   "id": "63b04fa9",
   "metadata": {},
   "source": [
    "### 9. Validacion y consulta al modelo entrenado"
   ]
  },
  {
   "cell_type": "code",
   "execution_count": null,
   "id": "cbe93100",
   "metadata": {},
   "outputs": [],
   "source": [
    "def verificar_modelo_guardado():\n",
    "    print(f\"\\n🧪 VERIFICANDO MODELO GUARDADO:\")\n",
    "    print(\"=\"*35)\n",
    "    \n",
    "    try:\n",
    "        # Cargar componentes\n",
    "        modelo_cargado = joblib.load('red_neuronal_modelo.pkl')\n",
    "        scaler_cargado = joblib.load('scaler_normalizacion.pkl')\n",
    "        \n",
    "        # Hacer predicción de prueba\n",
    "        ejemplo_datos = [320, 0, 0, 180, 0, 950, 750, 28]\n",
    "        ejemplo_normalizado = scaler_cargado.transform([ejemplo_datos])\n",
    "        prediccion = modelo_cargado.predict(ejemplo_normalizado)[0]\n",
    "        \n",
    "        print(f\"Predicción de prueba: {prediccion:.1f} MPa\")\n",
    "                \n",
    "    except Exception as e:\n",
    "        print(f\"❌ Error: {e}\")\n",
    "\n",
    "verificar_modelo_guardado()"
   ]
  },
  {
   "cell_type": "markdown",
   "id": "7c282481",
   "metadata": {},
   "source": [
    "## Referencias"
   ]
  },
  {
   "cell_type": "markdown",
   "id": "a5ff20a9",
   "metadata": {},
   "source": [
    "- https://data.mendeley.com/datasets/dm3j2cn573/1\n",
    "- https://papers.ssrn.com/sol3/papers.cfm?abstract_id=5167038"
   ]
  }
 ],
 "metadata": {
  "kernelspec": {
   "display_name": "Python 3",
   "language": "python",
   "name": "python3"
  },
  "language_info": {
   "codemirror_mode": {
    "name": "ipython",
    "version": 3
   },
   "file_extension": ".py",
   "mimetype": "text/x-python",
   "name": "python",
   "nbconvert_exporter": "python",
   "pygments_lexer": "ipython3",
   "version": "3.12.7"
  }
 },
 "nbformat": 4,
 "nbformat_minor": 5
}
